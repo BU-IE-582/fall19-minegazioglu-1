{
 "cells": [
  {
   "cell_type": "markdown",
   "metadata": {},
   "source": [
    "**Load Packages**"
   ]
  },
  {
   "cell_type": "code",
   "execution_count": 42,
   "metadata": {},
   "outputs": [],
   "source": [
    "# Importing necessary libraries\n",
    "\n",
    "import pandas as pd # data processing, CSV file I/O (e.g. pd.read_csv)\n",
    "import numpy as np # linear algebra\n",
    "import matplotlib.pyplot as plt # visualization\n",
    "import matplotlib.pylab as plb # visualization\n",
    "import warnings # ignore deprecation warnings etc.\n",
    "warnings.filterwarnings(\"ignore\")\n",
    "import time # dealing with time data\n",
    "from datetime import datetime, timedelta # dealing with time data\n",
    "import datetime as dt # dealing with time data"
   ]
  },
  {
   "cell_type": "markdown",
   "metadata": {},
   "source": [
    "**Load Data**"
   ]
  },
  {
   "cell_type": "markdown",
   "metadata": {},
   "source": [
    "We have used matches and stats data"
   ]
  },
  {
   "cell_type": "code",
   "execution_count": 43,
   "metadata": {},
   "outputs": [],
   "source": [
    "stats = pd.read_csv(\"582\\\\Project/stats/stats.csv\")\n",
    "matches = pd.read_csv(\"582\\\\Project/matches/matches.csv\")"
   ]
  },
  {
   "cell_type": "markdown",
   "metadata": {},
   "source": [
    "### Data Preprocessing"
   ]
  },
  {
   "cell_type": "markdown",
   "metadata": {},
   "source": [
    "Matches DataFrame"
   ]
  },
  {
   "cell_type": "markdown",
   "metadata": {},
   "source": [
    "**Filter English Premier League**"
   ]
  },
  {
   "cell_type": "code",
   "execution_count": 44,
   "metadata": {},
   "outputs": [],
   "source": [
    "# Filter English Premier League Games Alone\n",
    "matches = matches[matches[\"league_id\"] == 148]"
   ]
  },
  {
   "cell_type": "markdown",
   "metadata": {},
   "source": [
    "**Convert Epoch Column to Datetime Format**"
   ]
  },
  {
   "cell_type": "markdown",
   "metadata": {},
   "source": [
    "dates were in epoch format and needs to be converted into datetime for interpretability"
   ]
  },
  {
   "cell_type": "code",
   "execution_count": 45,
   "metadata": {},
   "outputs": [],
   "source": [
    "# Convert epoch column to datetime format\n",
    "start = datetime(1970, 1, 1)  # Unix epoch start time\n",
    "matches['datetime'] = matches.epoch.apply(lambda x: start + timedelta(seconds=x))\n",
    "# Drop epoch\n",
    "matches.drop(\"epoch\",axis = 1, inplace = True)\n",
    "\n",
    "# Split datetime column to date and time columns\n",
    "matches['Date'] = matches['datetime'].dt.strftime('%d/%m/%Y')\n",
    "matches['Time'] = matches['datetime'].dt.strftime('%H:%M:%S')"
   ]
  },
  {
   "cell_type": "markdown",
   "metadata": {},
   "source": [
    "**Fill NA values with \"not played\"**"
   ]
  },
  {
   "cell_type": "code",
   "execution_count": 46,
   "metadata": {},
   "outputs": [],
   "source": [
    "matches.match_hometeam_score = matches.match_hometeam_score.fillna(\"not_played_h\")\n",
    "matches.match_awayteam_score = matches.match_awayteam_score.fillna(\"not_played_a\")"
   ]
  },
  {
   "cell_type": "markdown",
   "metadata": {},
   "source": [
    "**Change Column Names of Matches DataFrame for convenience**"
   ]
  },
  {
   "cell_type": "code",
   "execution_count": 47,
   "metadata": {},
   "outputs": [],
   "source": [
    "matches.rename(columns = {'match_hometeam_score':\"home_score\",'match_awayteam_score':\"away_score\" },inplace = True)"
   ]
  },
  {
   "cell_type": "markdown",
   "metadata": {},
   "source": [
    "**Create a target column**"
   ]
  },
  {
   "cell_type": "code",
   "execution_count": 48,
   "metadata": {},
   "outputs": [],
   "source": [
    "matches[\"match_result\"] = np.where(matches['home_score'] == \"not_played_h\",\"Not Played\",np.where(matches['home_score'] > matches['away_score'], \"Home\", np.where(matches['home_score'] == matches['away_score'],\"Draw\",\"Away\")))"
   ]
  },
  {
   "cell_type": "markdown",
   "metadata": {},
   "source": [
    "**Convert \"not played\" scores to 0 for calculation convenience**"
   ]
  },
  {
   "cell_type": "code",
   "execution_count": 49,
   "metadata": {},
   "outputs": [],
   "source": [
    "matches.home_score = np.where(matches[\"home_score\"] == \"not_played_h\",\"0\",matches[\"home_score\"])\n",
    "matches.home_score = matches.home_score.astype(int)\n",
    "\n",
    "matches.away_score = np.where(matches[\"away_score\"] == \"not_played_a\",\"0\",matches[\"away_score\"])\n",
    "matches.away_score = matches.away_score.astype(int)"
   ]
  },
  {
   "cell_type": "markdown",
   "metadata": {},
   "source": [
    "### **Feature Engineering**"
   ]
  },
  {
   "cell_type": "markdown",
   "metadata": {},
   "source": [
    "We have computed each feature for home and away. For some features we have computed them across seasons(*) and for some we have disregarded season information and used the data as a whole. Below are features we have included in our model and their explanations."
   ]
  },
  {
   "cell_type": "markdown",
   "metadata": {},
   "source": [
    "**1. Number of conceded goals for 2 seasons for home and away teams**"
   ]
  },
  {
   "cell_type": "markdown",
   "metadata": {},
   "source": [
    "(*): We have partitioned data into seasons however, these seasons are partly artificial. We have considered 2019-2020 season as this season and 2 seasons before as last season<br>\n",
    "\n",
    "Finding the number of goals conceded by home and away teams for each of the seasons defined. Conceded goals refer to number of goals a team has let in against the opposition."
   ]
  },
  {
   "cell_type": "code",
   "execution_count": 50,
   "metadata": {},
   "outputs": [],
   "source": [
    "# Last season end date\n",
    "last_season_end = \"2019-08-08 23:00:00\"\n",
    "# Split current matches dataframe into last season and this season\n",
    "# Last Season\n",
    "last_season_df = matches[matches[\"datetime\"] < last_season_end]\n",
    "# This season\n",
    "this_season_df =  matches[matches[\"datetime\"] > last_season_end]"
   ]
  },
  {
   "cell_type": "code",
   "execution_count": 51,
   "metadata": {},
   "outputs": [],
   "source": [
    "#Last Season\n",
    "a = pd.melt(last_season_df, id_vars = ['datetime',\"match_id\",\"match_hometeam_id\",\"match_awayteam_id\"], value_vars = [\"home_score\",\"away_score\"], var_name = \"Var1\",value_name='Var1_value')\n",
    "b = pd.melt(last_season_df, id_vars=['datetime',\"match_id\",\"home_score\",\"away_score\"], value_vars = [\"match_hometeam_id\",\"match_awayteam_id\"],var_name='Var2', value_name='Var2_value')\n",
    "last_season = a.merge(b,on = \"match_id\")\n",
    "last_season = last_season[[\"datetime_x\",\"match_id\",\"Var1\",\"Var1_value\",\"Var2\",\"Var2_value\"]]\n",
    "\n",
    "last_season.sort_values([\"datetime_x\",\"Var2_value\"])\n",
    "\n",
    "# Drop values that are duplicated but not needed\n",
    "last_season =(last_season[~((last_season[\"Var2\"] == \"match_hometeam_id\") & (last_season[\"Var1\"] == \"home_score\"))])\n",
    "last_season =(last_season[~((last_season[\"Var2\"] == \"match_awayteam_id\") & (last_season[\"Var1\"] == \"away_score\"))])\n",
    "\n",
    "\n",
    "goals_last_season_dict_conceded = last_season.groupby(\"Var2_value\")[\"Var1_value\"].mean().to_dict()\n",
    "\n",
    "#This Season\n",
    "a = pd.melt(this_season_df, id_vars = ['datetime',\"match_id\",\"match_hometeam_id\",\"match_awayteam_id\"], value_vars = [\"home_score\",\"away_score\"], var_name = \"Var1\",value_name='Var1_value')\n",
    "b = pd.melt(this_season_df, id_vars=['datetime',\"match_id\",\"home_score\",\"away_score\"], value_vars = [\"match_hometeam_id\",\"match_awayteam_id\"],var_name='Var2', value_name='Var2_value')\n",
    "this_season = a.merge(b,on = \"match_id\")\n",
    "this_season = this_season[[\"datetime_x\",\"match_id\",\"Var1\",\"Var1_value\",\"Var2\",\"Var2_value\"]]\n",
    "\n",
    "this_season.sort_values([\"datetime_x\",\"Var2_value\"])\n",
    "\n",
    "# Drop values that are duplicated but not needed\n",
    "this_season =(this_season[~((this_season[\"Var2\"] == \"match_hometeam_id\") & (this_season[\"Var1\"] == \"home_score\"))])\n",
    "this_season =(this_season[~((this_season[\"Var2\"] == \"match_awayteam_id\") & (this_season[\"Var1\"] == \"away_score\"))])\n",
    "\n",
    "\n",
    "goals_this_season_dict_conceded = this_season.groupby(\"Var2_value\")[\"Var1_value\"].mean().to_dict()"
   ]
  },
  {
   "cell_type": "code",
   "execution_count": 52,
   "metadata": {},
   "outputs": [],
   "source": [
    "matches[\"last_season_goals_home_concede\"] = matches[\"match_hometeam_id\"].map(goals_last_season_dict_conceded)\n",
    "matches[\"last_season_goals_away_concede\"] = matches[\"match_awayteam_id\"].map(goals_last_season_dict_conceded)\n",
    "matches[\"this_season_goals_home_concede\"] = matches[\"match_hometeam_id\"].map(goals_this_season_dict_conceded)\n",
    "matches[\"this_season_goals_away_concede\"] = matches[\"match_awayteam_id\"].map(goals_this_season_dict_conceded)"
   ]
  },
  {
   "cell_type": "markdown",
   "metadata": {},
   "source": [
    "**2. Calculating attack or defense strength**"
   ]
  },
  {
   "cell_type": "markdown",
   "metadata": {},
   "source": [
    "This feature is inspired by this blog post.(https://help.smarkets.com/hc/en-gb/articles/115001457989-How-to-calculate-Poisson-distribution-for-football-betting)\n",
    "After home and away team's attack strength and defense strength we will use these features as a way of calculating home and away team's number of goals. To elaborate for a home team we need to calculate attack strength and then the defense strength of away team. Take the product of home team attack strength, away team defense strength and home teams average goals. Our main goal was the use last season's statistics however,as mentioned in introduction not all matches included are premier league matches for some teams. Instead we used whole data as one season"
   ]
  },
  {
   "cell_type": "code",
   "execution_count": 53,
   "metadata": {},
   "outputs": [],
   "source": [
    "# Home\n",
    "#Average goals scored at home = total home goals scored in the season / total number of home games\n",
    "average_goals_scored_at_home = sum(matches[\"home_score\"])/len(matches[\"home_score\"])\n",
    "\n",
    "# Away\n",
    "#Average goals scored away = total away goals scored in the season / total number of away games\n",
    "average_goals_scored_away = sum(matches[\"away_score\"])/len(matches[\"away_score\"])\n"
   ]
  },
  {
   "cell_type": "markdown",
   "metadata": {},
   "source": [
    "The next step is to determine the average number of goals conceded per game - for both home and away teams - which is the opposite to the average goals scored per game."
   ]
  },
  {
   "cell_type": "code",
   "execution_count": 54,
   "metadata": {},
   "outputs": [],
   "source": [
    "# Average number of goals conceded by the home team\n",
    "average_goals_conceded_by_home = average_goals_scored_away\n",
    "\n",
    "# Average number of goals conceded by the away team\n",
    "average_goals_conceded_away = average_goals_scored_at_home"
   ]
  },
  {
   "cell_type": "markdown",
   "metadata": {},
   "source": [
    "**Calculating the home team's attack strength & away defense strength**"
   ]
  },
  {
   "cell_type": "code",
   "execution_count": 55,
   "metadata": {},
   "outputs": [],
   "source": [
    "#There are two steps to calculating a home team's attack strength.\n",
    "#Number of goals scored at home last season by the home team / number of home games played\n",
    "\n",
    "# Home attack strength\n",
    "ratio_home = matches.groupby(\"match_hometeam_id\")[\"home_score\"].rolling(5,min_periods = 0).mean().reset_index(drop = True)\n",
    "hometeam_attack_strength_season_28 = ratio_home/average_goals_scored_at_home\n",
    "\n",
    "# Away Defensive Strength\n",
    "ratio_away = matches.groupby(\"match_awayteam_id\")[\"away_score\"].rolling(5,min_periods = 0).mean().reset_index(drop = True)\n",
    "awayteam_defense_strength_season_28 = ratio_away/average_goals_conceded_away"
   ]
  },
  {
   "cell_type": "markdown",
   "metadata": {},
   "source": [
    "Basically we have matches that do not belong to premier league but championship eg. Aston Villa joins premier league in 28th season but in our dataframe we see it in the previous 2 seasons. Also, teams should technically have the same number of matches in a season but I think some matches are removed because it was wanted there be an equality in team names through the dataset. We need to replace teams that do not belong to 27th season with their values so far for 28th season"
   ]
  },
  {
   "cell_type": "code",
   "execution_count": 56,
   "metadata": {},
   "outputs": [],
   "source": [
    "matches[\"hometeam_attack_strength_season_28\"] = hometeam_attack_strength_season_28\n",
    "matches[\"awayteam_defense_strength_season_28\"] = awayteam_defense_strength_season_28\n",
    "hometeam_average_goals_dict = (matches.groupby(\"match_hometeam_id\").sum()[\"home_score\"]/ matches.groupby(\"match_hometeam_id\").count()[\"home_score\"]).to_dict()\n",
    "matches[\"hometeam_average_goals_season_28\"] = matches[\"match_hometeam_id\"].map(hometeam_average_goals_dict)"
   ]
  },
  {
   "cell_type": "markdown",
   "metadata": {},
   "source": [
    "**Projecting expected home team goals**"
   ]
  },
  {
   "cell_type": "code",
   "execution_count": 57,
   "metadata": {},
   "outputs": [],
   "source": [
    "#Home team attack strength * away team defence strength * average number of home goals\n",
    "matches[\"expected_hometeam_goals\"] = matches[\"hometeam_attack_strength_season_28\"] * matches[\"awayteam_defense_strength_season_28\"] * matches[\"hometeam_average_goals_season_28\"] "
   ]
  },
  {
   "cell_type": "markdown",
   "metadata": {},
   "source": [
    "**Calculating the away team's attack strength & home team's defensive strength**"
   ]
  },
  {
   "cell_type": "markdown",
   "metadata": {},
   "source": [
    "We repeat the above steps for away team likewise"
   ]
  },
  {
   "cell_type": "code",
   "execution_count": 58,
   "metadata": {},
   "outputs": [],
   "source": [
    "# Away attack strength\n",
    "ratio_away = matches.groupby(\"match_awayteam_id\")[\"away_score\"].rolling(5,min_periods = 0).mean().reset_index(drop = True)\n",
    "awayteam_attack_strength_season_28 = ratio_away/average_goals_scored_away\n",
    "\n",
    "# Home Defensive Strength\n",
    "ratio_home = matches.groupby(\"match_hometeam_id\")[\"home_score\"].rolling(5,min_periods = 0).mean().reset_index(drop = True)\n",
    "hometeam_defense_strength_season_28 = ratio_home/average_goals_conceded_by_home"
   ]
  },
  {
   "cell_type": "code",
   "execution_count": 59,
   "metadata": {},
   "outputs": [],
   "source": [
    "matches[\"awayteam_attack_strength_season_28\"] = awayteam_attack_strength_season_28.values\n",
    "matches[\"hometeam_defense_strength_season_28\"] = hometeam_defense_strength_season_28.values\n",
    "awayteam_average_goals_dict = (matches.groupby(\"match_awayteam_id\").sum()[\"away_score\"]/ matches.groupby(\"match_awayteam_id\").count()[\"away_score\"]).to_dict()\n",
    "matches[\"awayteam_average_goals_season_28\"] = matches[\"match_awayteam_id\"].map(awayteam_average_goals_dict)"
   ]
  },
  {
   "cell_type": "code",
   "execution_count": 60,
   "metadata": {},
   "outputs": [],
   "source": [
    "#Home team attack strength * away team defence strength * average number of home goals\n",
    "matches[\"expected_awayteam_goals\"] = matches[\"awayteam_attack_strength_season_28\"] * matches[\"hometeam_defense_strength_season_28\"] * matches[\"awayteam_average_goals_season_28\"] "
   ]
  },
  {
   "cell_type": "markdown",
   "metadata": {},
   "source": [
    "Drop features that were used as part of the calculation of expected goals"
   ]
  },
  {
   "cell_type": "code",
   "execution_count": 61,
   "metadata": {
    "scrolled": false
   },
   "outputs": [],
   "source": [
    "matches.drop(['hometeam_attack_strength_season_28',\n",
    "       'awayteam_defense_strength_season_28',\n",
    "       'hometeam_average_goals_season_28', \n",
    "        'awayteam_attack_strength_season_28',\n",
    "       'hometeam_defense_strength_season_28',\n",
    "       'awayteam_average_goals_season_28'],axis = 1,inplace = True)"
   ]
  },
  {
   "cell_type": "markdown",
   "metadata": {},
   "source": [
    "**Total Goals by Home and Away Teams**"
   ]
  },
  {
   "cell_type": "markdown",
   "metadata": {},
   "source": [
    "Total goals scored by home and away teams "
   ]
  },
  {
   "cell_type": "code",
   "execution_count": 62,
   "metadata": {},
   "outputs": [],
   "source": [
    "#Total goals of all times\n",
    "total_home_score = matches[[\"match_hometeam_id\",\"home_score\"]].groupby(\"match_hometeam_id\").sum()\n",
    "total_home_score_dict = total_home_score.to_dict()[\"home_score\"]\n",
    "total_away_score = matches[[\"match_awayteam_id\",\"away_score\"]].groupby(\"match_awayteam_id\").sum()\n",
    "total_away_score_dict = total_away_score.to_dict()[\"away_score\"]\n",
    "matches[\"total_home_score\"] = matches[\"match_hometeam_id\"].map(total_home_score_dict)\n",
    "matches[\"total_away_score\"] = matches[\"match_awayteam_id\"].map(total_away_score_dict)"
   ]
  },
  {
   "cell_type": "code",
   "execution_count": 63,
   "metadata": {},
   "outputs": [],
   "source": [
    "# Drop columns that are redundant\n",
    "matches.drop([\"match_status\",\"match_live\",\n",
    "            \"match_hometeam_halftime_score\",\"match_awayteam_halftime_score\",\n",
    "            \"match_hometeam_extra_score\",\"match_awayteam_penalty_score\",\n",
    "            \"match_hometeam_halftime_score\",\"match_awayteam_halftime_score\",\n",
    "           \"match_awayteam_extra_score\",\"match_hometeam_penalty_score\",\"league_id\",\"Date\",\"Time\"],axis = 1,inplace= True)"
   ]
  },
  {
   "cell_type": "markdown",
   "metadata": {},
   "source": [
    "**Take last 20 games's stats**"
   ]
  },
  {
   "cell_type": "markdown",
   "metadata": {},
   "source": [
    "As an alternative to calculating win/lose streaks we tried to create features based on statistics of home and away games. We chose corner kicks, ball possession and red card. We based our selection criteria on the number of null values because some statistics contained too many null values and the chosen values due to their significance in a match. For example a large number of corner kicks indicates that a team plays well by enforcing corner kicks from the opponent team. \n",
    "\n",
    "Here we take the mean of the last 20 games for home and away teams in terms of their statistics mentioned above."
   ]
  },
  {
   "cell_type": "code",
   "execution_count": 64,
   "metadata": {},
   "outputs": [],
   "source": [
    "a = matches[[\"match_id\",\"match_hometeam_id\",\"match_awayteam_id\"]].drop_duplicates()\n",
    "a = a.set_index(\"match_id\")\n",
    "a = a.to_dict()\n",
    "home_team_id_dict = a[\"match_hometeam_id\"]\n",
    "away_team_id_dict = a[\"match_awayteam_id\"]\n",
    "\n",
    "stats[\"match_hometeam_id\"] = stats[\"match_id\"].map(home_team_id_dict)\n",
    "stats = stats[~stats[\"match_hometeam_id\"].isnull()]\n",
    "stats[\"match_hometeam_id\"] = stats[\"match_hometeam_id\"].astype(int)\n",
    "\n",
    "stats[\"match_awayteam_id\"] = stats[\"match_id\"].map(away_team_id_dict).astype(int)\n"
   ]
  },
  {
   "cell_type": "code",
   "execution_count": 65,
   "metadata": {
    "scrolled": true
   },
   "outputs": [],
   "source": [
    "stats = stats[[\"match_id\",\n",
    "                            \"home_BallPossession\",\n",
    "                            \"away_BallPossession\",\n",
    "                            \"home_CornerKicks\",\n",
    "                            \"away_CornerKicks\",\n",
    "                            \"home_RedCards\",\n",
    "                            \"away_RedCards\"]]\n",
    "\n",
    "stats_matches = pd.merge(left = stats, right = matches,how = \"right\",right_on = \"match_id\",left_on = \"match_id\")\n",
    "#stats_matches = stats_matches.fillna(0)\n",
    "columns_to_change_home = [\"home_CornerKicks\", \"home_RedCards\"]\n",
    "columns_to_change_away = ['away_CornerKicks','away_RedCards']\n",
    "# Home corner kick\n",
    "homekick_dict = stats_matches.groupby(\"match_hometeam_id\").nth([x for x in range(-20,0)]).home_CornerKicks.mean(axis=0,level=0).to_dict()\n",
    "stats_matches[\"home_kick_avg\"] = stats_matches[\"match_hometeam_id\"].map(homekick_dict)\n",
    "\n",
    "# Away corner kick\n",
    "awaykick_dict = stats_matches.groupby(\"match_awayteam_id\").nth([x for x in range(-20,0)]).away_CornerKicks.mean(axis=0,level=0).to_dict()\n",
    "stats_matches[\"away_kick_avg\"] = stats_matches[\"match_awayteam_id\"].map(awaykick_dict)\n",
    "\n",
    "# Home Red Card\n",
    "homered_dict = stats_matches.groupby(\"match_hometeam_id\").nth([x for x in range(-20,0)]).home_RedCards.mean(axis=0,level=0).to_dict()\n",
    "stats_matches[\"home_red_avg\"] = stats_matches[\"match_hometeam_id\"].map(homered_dict)\n",
    "\n",
    "# Away Red Card\n",
    "\n",
    "awayred_dict = stats_matches.groupby(\"match_awayteam_id\").nth([x for x in range(-20,0)]).away_RedCards.mean(axis=0,level=0).to_dict()\n",
    "stats_matches[\"away_red_avg\"] = stats_matches[\"match_awayteam_id\"].map(awayred_dict)"
   ]
  },
  {
   "cell_type": "code",
   "execution_count": 66,
   "metadata": {},
   "outputs": [],
   "source": [
    "#Home Possession\n",
    "stats_matches.home_BallPossession = stats_matches.home_BallPossession.astype(\"category\")\n",
    "stats_matches.away_BallPossession = stats_matches.away_BallPossession.astype(\"category\")\n",
    "stats_matches.home_BallPossession = stats_matches[\"home_BallPossession\"].cat.add_categories([\"00%\"]).fillna(\"00%\")\n",
    "stats_matches.away_BallPossession = stats_matches.away_BallPossession.cat.add_categories([\"000%\"]).fillna(\"000%\")\n",
    "stats_matches.home_BallPossession = stats_matches.home_BallPossession.str[0:2]\n",
    "stats_matches.away_BallPossession = stats_matches.away_BallPossession.str[0:2]\n",
    "# Fill NA\n",
    "#stats_matches.away_BallPossession = stats_matches.away_BallPossession.fillna(0)\n",
    "#stats_matches.home_BallPossession = stats_matches.home_BallPossession.fillna(0)\n",
    "# Convert to int\n",
    "stats_matches.away_BallPossession  = stats_matches.away_BallPossession.astype(int)\n",
    "stats_matches.home_BallPossession = stats_matches.home_BallPossession.astype(int)\n",
    "\n",
    "homepos_dict = stats_matches.groupby(\"match_hometeam_id\").nth([x for x in range(-20,0)]).home_BallPossession.mean(axis=0,level=0).to_dict()\n",
    "stats_matches[\"home_pos\"] = stats_matches[\"match_hometeam_id\"].map(homepos_dict)\n",
    "\n",
    "#Away Possesion\n",
    "\n",
    "awaypos_dict = stats_matches.groupby(\"match_awayteam_id\").nth([x for x in range(-20,0)]).away_BallPossession.mean(axis=0,level=0).to_dict()\n",
    "stats_matches[\"away_pos\"] = stats_matches[\"match_awayteam_id\"].map(awaypos_dict)"
   ]
  },
  {
   "cell_type": "markdown",
   "metadata": {},
   "source": [
    "# Points"
   ]
  },
  {
   "cell_type": "markdown",
   "metadata": {},
   "source": [
    "We have partitioned data into 2 seasons and computed the sum of points throughout each seasons for home and away teams. Our point calculations were very close the points,with slight deviation, showcased by premier league however since our data also contained matches from EFL cup."
   ]
  },
  {
   "cell_type": "code",
   "execution_count": 67,
   "metadata": {},
   "outputs": [],
   "source": [
    "teamidllist=matches[\"match_hometeam_id\"].unique().tolist()"
   ]
  },
  {
   "cell_type": "code",
   "execution_count": 68,
   "metadata": {
    "scrolled": false
   },
   "outputs": [],
   "source": [
    "last_season_end = \"2019-08-08 23:00:00\"\n",
    "\n",
    "last_season_stats = stats_matches[stats_matches[\"datetime\"] < last_season_end]\n",
    "this_season_stats=  stats_matches[stats_matches[\"datetime\"] > last_season_end]\n",
    "\n",
    "new_dataframe = pd.DataFrame()\n",
    "\n",
    "new_dataframe[\"teams\"] = teamidllist\n",
    "new_dataframe = new_dataframe.sort_values(\"teams\",ascending = True).reset_index()"
   ]
  },
  {
   "cell_type": "markdown",
   "metadata": {},
   "source": [
    "After we calculated points for home and away teams we have converted them into dictionaries and then summed these dictionaries based on their keys. Therefore, we have obtained a final dictionary that contains points for each team in season 2018-2019."
   ]
  },
  {
   "cell_type": "code",
   "execution_count": 69,
   "metadata": {},
   "outputs": [],
   "source": [
    "# LAST SEASON\n",
    "last_season_stats[\"Home_Point\"] = last_season_stats.match_result.apply(lambda x: 3 if x == \"Home\" else (1 if x== \"Draw\" else 0))\n",
    "last_season_stats[\"Away_Point\"] = last_season_stats.match_result.apply(lambda x: 3 if x == \"Away\" else (1 if x== \"Draw\" else 0))\n",
    "\n",
    "home_dict = last_season_stats.groupby(\"match_hometeam_id\").sum()[[\"Home_Point\"]].to_dict()\n",
    "home_dict_last = home_dict[\"Home_Point\"]\n",
    "away_dict = last_season_stats.groupby(\"match_awayteam_id\").sum()[[\"Away_Point\"]].to_dict()\n",
    "away_dict_last = away_dict[\"Away_Point\"]\n",
    "\n",
    "from collections import Counter \n",
    "\n",
    "total_dict = Counter(home_dict_last) + Counter(away_dict_last) \n",
    "\n",
    "new_dataframe[\"old_season_points\"] = new_dataframe.teams.map(total_dict)\n",
    "new_dataframe = new_dataframe.sort_values(\"old_season_points\", ascending = False)"
   ]
  },
  {
   "cell_type": "markdown",
   "metadata": {},
   "source": [
    "After we calculated points for home and away teams we have converted them into dictionaries and then summed these dictionaries based on their keys. Therefore, we have obtained a final dictionary that contains points for each team in season 2019-2020."
   ]
  },
  {
   "cell_type": "code",
   "execution_count": 70,
   "metadata": {},
   "outputs": [],
   "source": [
    "# THIS SEASON\n",
    "this_season_stats[\"Home_Point\"] = this_season_stats.match_result.apply(lambda x: 3 if x == \"Home\" else (1 if x== \"Draw\" else 0))\n",
    "this_season_stats[\"Away_Point\"] = this_season_stats.match_result.apply(lambda x: 3 if x == \"Away\" else (1 if x== \"Draw\" else 0))\n",
    "\n",
    "home_dict = this_season_stats.groupby(\"match_hometeam_id\").sum()[[\"Home_Point\"]].to_dict()\n",
    "home_dict_this = home_dict[\"Home_Point\"]\n",
    "away_dict = this_season_stats.groupby(\"match_awayteam_id\").sum()[[\"Away_Point\"]].to_dict()\n",
    "away_dict_this = away_dict[\"Away_Point\"]\n",
    "\n",
    "from collections import Counter \n",
    "\n",
    "total_dict = Counter(home_dict_this) + Counter(away_dict_this) \n",
    "\n",
    "new_dataframe[\"This_season_points\"] = new_dataframe.teams.map(total_dict)\n",
    "new_dataframe = new_dataframe.sort_values(\"This_season_points\", ascending = False)"
   ]
  },
  {
   "cell_type": "code",
   "execution_count": 71,
   "metadata": {},
   "outputs": [],
   "source": [
    "# drop redundant columns\n",
    "stats_matches.drop(['home_BallPossession', 'away_BallPossession',\n",
    "       'home_CornerKicks', 'away_CornerKicks', 'home_RedCards',\n",
    "       'away_RedCards'], axis =1,inplace = True)"
   ]
  },
  {
   "cell_type": "code",
   "execution_count": 72,
   "metadata": {},
   "outputs": [],
   "source": [
    "stats_matches[\"old_season_points_home\"] = stats_matches.match_hometeam_id.map(home_dict_last)\n",
    "stats_matches[\"old_season_points_away\"] = stats_matches.match_awayteam_id.map(away_dict_last)\n",
    "\n",
    "stats_matches[\"this_season_points_home\"] = stats_matches.match_hometeam_id.map(home_dict_this)\n",
    "stats_matches[\"this_season_points_away\"] = stats_matches.match_awayteam_id.map(away_dict_this)"
   ]
  },
  {
   "cell_type": "code",
   "execution_count": 73,
   "metadata": {},
   "outputs": [],
   "source": [
    "# we do not have a large population of null values in our selected statistics features hence we filled them with 0\n",
    "stats_matches = stats_matches.fillna(0)"
   ]
  },
  {
   "cell_type": "markdown",
   "metadata": {},
   "source": [
    "**About Insignificant Features we have created**"
   ]
  },
  {
   "cell_type": "markdown",
   "metadata": {},
   "source": [
    "Above features are the ones that are crucial to our model. We have tried and manually discarded features based on their RPS score. These features include win/lose streak, goal difference, cumulative sum of the goals throughout a team's past games.When included they have not provided a decrease in RPS score."
   ]
  },
  {
   "cell_type": "markdown",
   "metadata": {},
   "source": [
    "**Model**"
   ]
  },
  {
   "cell_type": "markdown",
   "metadata": {},
   "source": [
    "For getting probabilities for the upcoming round of matches. We have set a date interval that we manually intervened before every round. We have tried fitting our model with Multi-class Logistic Regression, Linear Discriminant Analysis,Decision Tree, Random Forest and Stochastic Gradient Boosting. Out of these algorithms Multi-class Logistic Regression gave the lowest RPS scores. However, Linear Discriminant Analysis for some rounds gave lower bias but variance of Multi-class Logistic Regression was lower providing us with a more robust model."
   ]
  },
  {
   "cell_type": "code",
   "execution_count": 74,
   "metadata": {},
   "outputs": [],
   "source": [
    "# NOW\n",
    "from datetime import datetime\n",
    "\n",
    "now = datetime.now()\n",
    "#now_formatted = now.strftime(\"%Y-%m-%d %H:%M:%S\")\n",
    "\n",
    "# choose the date interval you'd like to test on\n",
    "start_date = \"2019-11-30 23:00:00\"\n",
    "end_date = \"2020-01-04 23:00:00\"\n",
    "\n",
    "# Split into train and test data\n",
    "\n",
    "train = stats_matches[stats_matches[\"datetime\"]<start_date]\n",
    "test = stats_matches[(stats_matches[\"datetime\"]>start_date) & (stats_matches[\"datetime\"]<=end_date)]"
   ]
  },
  {
   "cell_type": "code",
   "execution_count": 75,
   "metadata": {},
   "outputs": [],
   "source": [
    "# Drop insignificant columns from training and test datasets\n",
    "\n",
    "train_x = train.drop([\"match_result\",\"datetime\",\"match_id\",'match_hometeam_name', 'match_awayteam_name'],axis = 1)\n",
    "target = train[\"match_result\"]\n",
    "test_for_names = test.copy()\n",
    "test_x = test.drop([\"match_result\",\"datetime\",\"match_id\",'match_hometeam_name', 'match_awayteam_name'],axis = 1)"
   ]
  },
  {
   "cell_type": "code",
   "execution_count": 76,
   "metadata": {},
   "outputs": [],
   "source": [
    "from sklearn.linear_model import LogisticRegression\n",
    "# Logistic Regression\n",
    "model = LogisticRegression(multi_class='multinomial',solver ='newton-cg').fit(train_x,target)\n",
    "\n",
    "model.fit(train_x,target)\n",
    "#predictions = model.predict(test_x)\n",
    "\n",
    "# Obtain probabilites\n",
    "probabilities = model.predict_proba(test_x)\n",
    "\n",
    "probabilities_df = pd.DataFrame(probabilities,columns=model.classes_)"
   ]
  },
  {
   "cell_type": "code",
   "execution_count": 77,
   "metadata": {},
   "outputs": [],
   "source": [
    "test_results = pd.concat([test_for_names.reset_index(),probabilities_df.reset_index()],axis = 1)\n",
    "test_results = test_results[['Home','Draw','Away','match_awayteam_id', \"match_hometeam_id\",\"match_id\",'match_hometeam_name', 'match_awayteam_name']]\n",
    "test_results.to_csv(\"round_x.csv\")"
   ]
  },
  {
   "cell_type": "code",
   "execution_count": 78,
   "metadata": {},
   "outputs": [],
   "source": [
    "round_14 = pd.read_csv(\"582\\\\Project/rounds_RPS/round_14.csv\")\n",
    "round_15 = pd.read_csv(\"582\\\\Project/rounds_RPS/round_15.csv\")\n",
    "round_16 = pd.read_csv(\"582\\\\Project/rounds_RPS/round_16.csv\")\n",
    "round_17 = pd.read_csv(\"582\\\\Project/rounds_RPS/round_17.csv\")\n",
    "round_18 = pd.read_csv(\"582\\\\Project/rounds_RPS/round_18.csv\")\n",
    "round_19 = pd.read_csv(\"582\\\\Project/rounds_RPS/round_19.csv\")\n",
    "round_20 = pd.read_csv(\"582\\\\Project/rounds_RPS/round_20.csv\")\n",
    "round_21 = pd.read_csv(\"582\\\\Project/rounds_RPS/round_21.csv\")\n",
    "\n",
    "\n",
    "total_rounds = pd.concat([round_14,round_15,round_16,round_17,round_18,round_19,round_20,round_21],axis =0,ignore_index = True)"
   ]
  },
  {
   "cell_type": "code",
   "execution_count": 79,
   "metadata": {
    "scrolled": true
   },
   "outputs": [],
   "source": [
    "total_rounds = total_rounds.merge(matches, how = \"inner\", on =\"match_id\")[[\"match_id\",\"Home\",\"Draw\",\"Away\",\"match_result\"]]"
   ]
  },
  {
   "cell_type": "code",
   "execution_count": 80,
   "metadata": {},
   "outputs": [],
   "source": [
    "def rps (p1,p0,p2,result):\n",
    "    if result ==\"Home\":\n",
    "        y_1=1;y_x=0;y_2=0\n",
    "    elif result ==\"Draw\":\n",
    "        y_1=0;y_x=1;y_2=0\n",
    "    elif result ==\"Away\":\n",
    "        y_1=0;y_x=0;y_2=1\n",
    "    rps = 1/2*(  (p1 - y_1)**2 + (p1 + p0  - y_1 - y_x )**2 + (p1 + p0 + p2  - y_1 - y_x - y_2)**2)\n",
    "    return rps"
   ]
  },
  {
   "cell_type": "code",
   "execution_count": 81,
   "metadata": {},
   "outputs": [],
   "source": [
    "total_rounds[\"RPS\"] = np.vectorize(rps)(total_rounds[\"Home\"],total_rounds[\"Draw\"],total_rounds[\"Away\"],total_rounds[\"match_result\"])"
   ]
  },
  {
   "cell_type": "markdown",
   "metadata": {},
   "source": [
    "Our final results for all 8 rounds can be seen in the table below:"
   ]
  },
  {
   "cell_type": "code",
   "execution_count": 82,
   "metadata": {
    "scrolled": false
   },
   "outputs": [
    {
     "data": {
      "text/plain": [
       "count    75.000000\n",
       "mean      0.222586\n",
       "std       0.159870\n",
       "min       0.000286\n",
       "25%       0.128955\n",
       "50%       0.184766\n",
       "75%       0.312888\n",
       "max       0.677117\n",
       "Name: RPS, dtype: float64"
      ]
     },
     "execution_count": 82,
     "metadata": {},
     "output_type": "execute_result"
    }
   ],
   "source": [
    "total_rounds[\"RPS\"].describe()"
   ]
  },
  {
   "cell_type": "markdown",
   "metadata": {},
   "source": [
    "As can be seen our RPS values are highly variable due to unpredictable nature of the games."
   ]
  }
 ],
 "metadata": {
  "kernelspec": {
   "display_name": "Python 3",
   "language": "python",
   "name": "python3"
  },
  "language_info": {
   "codemirror_mode": {
    "name": "ipython",
    "version": 3
   },
   "file_extension": ".py",
   "mimetype": "text/x-python",
   "name": "python",
   "nbconvert_exporter": "python",
   "pygments_lexer": "ipython3",
   "version": "3.7.4"
  }
 },
 "nbformat": 4,
 "nbformat_minor": 2
}
