{
 "cells": [
  {
   "cell_type": "markdown",
   "metadata": {},
   "source": [
    "\n",
    "# IE 582 Statistical Learning for Data Mining - Homework 1"
   ]
  },
  {
   "cell_type": "markdown",
   "metadata": {},
   "source": [
    "# Mine Gazioğlu"
   ]
  },
  {
   "cell_type": "code",
   "execution_count": 501,
   "metadata": {},
   "outputs": [],
   "source": [
    "# Importing necessary libraries\n",
    "\n",
    "import pandas as pd # data processing, CSV file I/O (e.g. pd.read_csv)\n",
    "import numpy as np # linear algebra\n",
    "import matplotlib.pyplot as plt # visualization\n",
    "import matplotlib.pylab as plb # visualization\n",
    "import seaborn as sns # visualization\n",
    "import warnings # ignore deprecation warnings etc.\n",
    "warnings.filterwarnings(\"ignore\")\n",
    "import time # dealing with time data\n",
    "from datetime import datetime, timedelta # dealing with time data"
   ]
  },
  {
   "cell_type": "code",
   "execution_count": 502,
   "metadata": {},
   "outputs": [],
   "source": [
    "# Load data with pandas\n",
    "\n",
    "goals = pd.read_csv(\"582\\goals\\goals.csv\")\n",
    "stats = pd.read_csv(\"582\\stats\\stats.csv\")\n",
    "matches = pd.read_csv(\"582\\matches\\matches.csv\")\n",
    "booking = pd.read_csv(\"582\\\\bookings\\\\bookings.csv\")\n",
    "bets = pd.read_csv(\"582\\\\bets\\\\bets.csv\")"
   ]
  },
  {
   "cell_type": "markdown",
   "metadata": {},
   "source": [
    "# Task 1 "
   ]
  },
  {
   "cell_type": "markdown",
   "metadata": {},
   "source": [
    "# 1.Plot the following histogram diagrams\n",
    "**a. Home Score(goals)   -- \n",
    "  b. Away Score(goals)   --\n",
    "  c. Home Score(goals)– Away Score(goals)**"
   ]
  },
  {
   "cell_type": "code",
   "execution_count": 503,
   "metadata": {},
   "outputs": [],
   "source": [
    "# For this task we will work with English Premier League so let's filter out the other league's data\n",
    "matches = matches[matches[\"league_id\"] == 148]"
   ]
  },
  {
   "cell_type": "code",
   "execution_count": 504,
   "metadata": {
    "scrolled": true
   },
   "outputs": [],
   "source": [
    "# select columns needed from matches dataframe\n",
    "matches_df = matches[[\"match_id\",\"match_hometeam_score\",\"match_awayteam_score\"]]\n",
    "# rename the columns\n",
    "matches_df = matches_df.rename(columns = {\"match_hometeam_score\":\"home_score\",\"match_awayteam_score\":\"away_score\"})\n",
    "#drop na values(they represent games that haven't been played yet)\n",
    "matches_df.dropna(inplace = True)"
   ]
  },
  {
   "cell_type": "code",
   "execution_count": 505,
   "metadata": {
    "scrolled": true
   },
   "outputs": [],
   "source": [
    "# set the type of home & away scores to integers\n",
    "matches_df[\"home_score\"] = matches_df[\"home_score\"].astype(int)\n",
    "matches_df[\"away_score\"] = matches_df[\"away_score\"].astype(int)"
   ]
  },
  {
   "cell_type": "code",
   "execution_count": 506,
   "metadata": {
    "scrolled": false
   },
   "outputs": [
    {
     "data": {
      "text/html": [
       "<div>\n",
       "<style scoped>\n",
       "    .dataframe tbody tr th:only-of-type {\n",
       "        vertical-align: middle;\n",
       "    }\n",
       "\n",
       "    .dataframe tbody tr th {\n",
       "        vertical-align: top;\n",
       "    }\n",
       "\n",
       "    .dataframe thead th {\n",
       "        text-align: right;\n",
       "    }\n",
       "</style>\n",
       "<table border=\"1\" class=\"dataframe\">\n",
       "  <thead>\n",
       "    <tr style=\"text-align: right;\">\n",
       "      <th></th>\n",
       "      <th>match_id</th>\n",
       "      <th>home_score</th>\n",
       "      <th>away_score</th>\n",
       "    </tr>\n",
       "  </thead>\n",
       "  <tbody>\n",
       "    <tr>\n",
       "      <th>4</th>\n",
       "      <td>140194</td>\n",
       "      <td>2</td>\n",
       "      <td>2</td>\n",
       "    </tr>\n",
       "    <tr>\n",
       "      <th>9</th>\n",
       "      <td>140198</td>\n",
       "      <td>0</td>\n",
       "      <td>1</td>\n",
       "    </tr>\n",
       "    <tr>\n",
       "      <th>10</th>\n",
       "      <td>140195</td>\n",
       "      <td>0</td>\n",
       "      <td>0</td>\n",
       "    </tr>\n",
       "    <tr>\n",
       "      <th>11</th>\n",
       "      <td>140200</td>\n",
       "      <td>0</td>\n",
       "      <td>2</td>\n",
       "    </tr>\n",
       "    <tr>\n",
       "      <th>12</th>\n",
       "      <td>140199</td>\n",
       "      <td>0</td>\n",
       "      <td>1</td>\n",
       "    </tr>\n",
       "  </tbody>\n",
       "</table>\n",
       "</div>"
      ],
      "text/plain": [
       "    match_id  home_score  away_score\n",
       "4     140194           2           2\n",
       "9     140198           0           1\n",
       "10    140195           0           0\n",
       "11    140200           0           2\n",
       "12    140199           0           1"
      ]
     },
     "execution_count": 506,
     "metadata": {},
     "output_type": "execute_result"
    }
   ],
   "source": [
    "# taking a look at matches_df dataframe\n",
    "matches_df.head()"
   ]
  },
  {
   "cell_type": "markdown",
   "metadata": {},
   "source": [
    "**a)Home Score(goals)**"
   ]
  },
  {
   "cell_type": "code",
   "execution_count": 507,
   "metadata": {
    "scrolled": true
   },
   "outputs": [
    {
     "data": {
      "text/plain": [
       "Text(0.5, 1.0, 'Home Score(goals)')"
      ]
     },
     "execution_count": 507,
     "metadata": {},
     "output_type": "execute_result"
    },
    {
     "data": {
      "image/png": "[encoded data removed]",
      "text/plain": [
       "<Figure size 432x288 with 1 Axes>"
      ]
     },
     "metadata": {},
     "output_type": "display_data"
    }
   ],
   "source": [
    "# Plot a histogram of home_scores\n",
    "plt.hist(matches_df.home_score, bins = 8)\n",
    "plt.xlabel(\"Home Goals\")\n",
    "plt.ylabel(\"Number of Games\")\n",
    "plt.title(\"Home Score(goals)\")"
   ]
  },
  {
   "cell_type": "markdown",
   "metadata": {},
   "source": [
    "**b)Away Score(goals)**"
   ]
  },
  {
   "cell_type": "code",
   "execution_count": 508,
   "metadata": {},
   "outputs": [
    {
     "data": {
      "text/plain": [
       "Text(0.5, 1.0, 'Away Score(goals)')"
      ]
     },
     "execution_count": 508,
     "metadata": {},
     "output_type": "execute_result"
    },
    {
     "data": {
      "image/png": "[encoded data removed]",
      "text/plain": [
       "<Figure size 432x288 with 1 Axes>"
      ]
     },
     "metadata": {},
     "output_type": "display_data"
    }
   ],
   "source": [
    "# Plot a histogram of away_scores\n",
    "plt.hist(matches_df.away_score, bins = 7)\n",
    "plt.xlabel(\"Away Goals\")\n",
    "plt.ylabel(\"Number of Games\")\n",
    "plt.title(\"Away Score(goals)\")"
   ]
  },
  {
   "cell_type": "markdown",
   "metadata": {},
   "source": [
    "**c)Home Score(goals)– Away Score(goals)**"
   ]
  },
  {
   "cell_type": "code",
   "execution_count": 509,
   "metadata": {},
   "outputs": [
    {
     "data": {
      "text/plain": [
       "Text(0.5, 1.0, 'Home Score(goals)– Away Score(goals)')"
      ]
     },
     "execution_count": 509,
     "metadata": {},
     "output_type": "execute_result"
    },
    {
     "data": {
      "image/png": "[encoded data removed]",
      "text/plain": [
       "<Figure size 432x288 with 1 Axes>"
      ]
     },
     "metadata": {},
     "output_type": "display_data"
    }
   ],
   "source": [
    "plt.hist((matches_df.home_score - matches_df.away_score), bins = 13)\n",
    "plt.xlabel(\"Home goals – Away Goals\")\n",
    "plt.ylabel(\"Number of Games\")\n",
    "plt.title(\"Home Score(goals)– Away Score(goals)\")"
   ]
  },
  {
   "cell_type": "markdown",
   "metadata": {},
   "source": [
    "# 2. Poisson Distribution vs. Actual Outcomes"
   ]
  },
  {
   "cell_type": "markdown",
   "metadata": {},
   "source": [
    " **Check the mean and variance for Home and Away Scores**"
   ]
  },
  {
   "cell_type": "code",
   "execution_count": 510,
   "metadata": {},
   "outputs": [
    {
     "name": "stdout",
     "output_type": "stream",
     "text": [
      "\u001b[1m Sample Mean Home Score : 1.64  \u001b[0m\n",
      "\u001b[1m Sample Variance Home Score : 1.81 \u001b[0m\n",
      "---\n",
      "\u001b[1m Sample Mean Away Score: 1.25 \u001b[0m\n",
      "\u001b[1m Sample Variance Away Score: 1.41 \u001b[0m\n"
     ]
    }
   ],
   "source": [
    "## Check the mean and the variance for Home and Away Scores. For Poisson Distribution mean and variance are equal\n",
    "# Note : mean are variance could also be equal for other distributions but not necessarily\n",
    "\n",
    "# Home Goals\n",
    "\n",
    "# sample mean\n",
    "home_sample_mean = matches_df[\"home_score\"].mean()\n",
    "print(\"\\033[1m Sample Mean Home Score : {0:.2f}  \\033[0m\".format(home_sample_mean))\n",
    "\n",
    "# sample variance\n",
    "home_sample_variance = np.var(matches_df[\"home_score\"])\n",
    "print(\"\\033[1m Sample Variance Home Score : {0:.2f} \\033[0m\".format(home_sample_variance))\n",
    "\n",
    "print(\"---\")\n",
    "# Away Goals\n",
    "\n",
    "# sample mean\n",
    "away_sample_mean = matches_df[\"away_score\"].mean()\n",
    "print(\"\\033[1m Sample Mean Away Score: {0:.2f} \\033[0m\".format(away_sample_mean))\n",
    "\n",
    "# sample variance\n",
    "away_sample_variance = np.var(matches_df[\"away_score\"])\n",
    "print(\"\\033[1m Sample Variance Away Score: {0:.2f} \\033[0m\".format(away_sample_variance))"
   ]
  },
  {
   "cell_type": "markdown",
   "metadata": {},
   "source": [
    "Sample mean and for variance for both home and away scores are pretty close. Let's investigate further"
   ]
  },
  {
   "cell_type": "code",
   "execution_count": 511,
   "metadata": {},
   "outputs": [],
   "source": [
    "# Declare 2 variables to keep home score and away score columns\n",
    "\n",
    "home_score = matches_df[\"home_score\"]\n",
    "away_score = matches_df[\"away_score\"]"
   ]
  },
  {
   "cell_type": "markdown",
   "metadata": {},
   "source": [
    "**Calculate the expected number of games corresponding to each quantile and compare with actual scores with Poisson Distribution**"
   ]
  },
  {
   "cell_type": "code",
   "execution_count": 512,
   "metadata": {
    "scrolled": true
   },
   "outputs": [],
   "source": [
    "# calculate sample mean (we will consider lambda equal to sample mean) for home & away scores\n",
    "\n",
    "lamb_home = home_score.mean()\n",
    "lamb_away = away_score.mean()\n",
    "\n",
    "# Calculate the expected number of games corresponding to each quantile (number of goals) with Poisson distribution\n",
    "# Also, set a seed because otherwise we will get different sets of random expected values each time we run this\n",
    "\n",
    "expected_home = np.random.RandomState(seed = 42).poisson(lamb_home, len(home_score))\n",
    "expected_away = np.random.RandomState(seed = 42).poisson(lamb_away, len(away_score))"
   ]
  },
  {
   "cell_type": "code",
   "execution_count": 513,
   "metadata": {},
   "outputs": [
    {
     "name": "stdout",
     "output_type": "stream",
     "text": [
      "{0, 1, 2, 3, 4, 5, 6, 8}\n",
      "{0, 1, 2, 3, 4, 5, 6}\n"
     ]
    }
   ],
   "source": [
    "# Find unique scores in expected_home and expected_away, we can use these to set bins number for our histogram\n",
    "\n",
    "print(set(expected_home))\n",
    "print(set(expected_away))"
   ]
  },
  {
   "cell_type": "code",
   "execution_count": 514,
   "metadata": {},
   "outputs": [
    {
     "data": {
      "image/png": "[encoded data removed]",
      "text/plain": [
       "<Figure size 432x288 with 1 Axes>"
      ]
     },
     "metadata": {},
     "output_type": "display_data"
    }
   ],
   "source": [
    "# Plot histogram for expected scores\n",
    "\n",
    "# Home\n",
    "\n",
    "plt.hist(expected_home, bins = 8)\n",
    "plt.xlabel(\"Expected Home Score\")\n",
    "plt.ylabel(\"Number of Games\")\n",
    "plt.title(\"Expected Home Score(goals)\")\n",
    "plt.show()"
   ]
  },
  {
   "cell_type": "code",
   "execution_count": 515,
   "metadata": {
    "scrolled": true
   },
   "outputs": [
    {
     "data": {
      "image/png": "[encoded data removed]",
      "text/plain": [
       "<Figure size 432x288 with 1 Axes>"
      ]
     },
     "metadata": {},
     "output_type": "display_data"
    }
   ],
   "source": [
    "# Away\n",
    "\n",
    "plt.hist(expected_away, bins = 6)\n",
    "plt.xlabel(\"Expected Away Score\")\n",
    "plt.ylabel(\"Number of Games\")\n",
    "plt.title(\"Expected Away Score(goals)\")\n",
    "plt.show()"
   ]
  },
  {
   "cell_type": "markdown",
   "metadata": {},
   "source": [
    "**Compare the actual outcomes with the theoretical distribution on a plot**"
   ]
  },
  {
   "cell_type": "code",
   "execution_count": 516,
   "metadata": {
    "scrolled": true
   },
   "outputs": [
    {
     "data": {
      "image/png": "[encoded data removed]",
      "text/plain": [
       "<Figure size 432x288 with 1 Axes>"
      ]
     },
     "metadata": {},
     "output_type": "display_data"
    }
   ],
   "source": [
    "# Home Scores vs. Expected Home Scores\n",
    "\n",
    "# density plot with the hist() function\n",
    "# use histogram to plot expected values \n",
    "# use kdeplot to plot a density plot to plot home_score\n",
    "# bw(bandwidth) controls how smooth you want the density plot to be. The larger the bw, the smoother it will be\n",
    "\n",
    "plt.figure()\n",
    "plt.hist([expected_home], histtype='barstacked', normed=True, bins = 6)\n",
    "sns.set_style('whitegrid')\n",
    "sns.kdeplot(home_score, bw=0.6)\n",
    "\n",
    "plt.xlabel(\"Expected Home Score & Actual Home Score\")\n",
    "plt.ylabel(\"Number of Games\")\n",
    "plt.title(\"Expected Home Score vs. Actual Home Score (goals)\")\n",
    "plt.show()"
   ]
  },
  {
   "cell_type": "code",
   "execution_count": 517,
   "metadata": {
    "scrolled": true
   },
   "outputs": [
    {
     "data": {
      "image/png": "[encoded data removed]",
      "text/plain": [
       "<Figure size 432x288 with 1 Axes>"
      ]
     },
     "metadata": {},
     "output_type": "display_data"
    }
   ],
   "source": [
    "# Away Scores vs. Expected Away Scores\n",
    "\n",
    "# density plot with the hist() function\n",
    "# use histogram to plot expected values \n",
    "# use kdeplot to plot a density plot for away_score\n",
    "\n",
    "plt.figure()\n",
    "plt.hist([expected_away], histtype='barstacked',normed = True, bins = 6)\n",
    "sns.set_style('whitegrid')\n",
    "sns.kdeplot(away_score, bw=0.6)\n",
    "\n",
    "plt.xlabel(\"Expected Away Score & Actual Away Score\")\n",
    "plt.ylabel(\"Number of Games\")\n",
    "plt.title(\"Expected Away Score vs. Actual Away Score(goals)\")\n",
    "plt.show()"
   ]
  },
  {
   "cell_type": "markdown",
   "metadata": {},
   "source": [
    "**Discussion :**"
   ]
  },
  {
   "cell_type": "markdown",
   "metadata": {},
   "source": [
    "Our assumption that home and away goals fit Poisson Distribution can be accepted since both these score types<br>\n",
    "**1.** have very close mean and variances and<br> \n",
    "**2.** from the comparison histograms it can be observed that expected and actual distributions show the same pattern."
   ]
  },
  {
   "cell_type": "markdown",
   "metadata": {},
   "source": [
    "# Task 2"
   ]
  },
  {
   "cell_type": "markdown",
   "metadata": {},
   "source": [
    "**1.Calculate the P(home win), P(tie) and P(away win) by P(x) = 1/odd**"
   ]
  },
  {
   "cell_type": "code",
   "execution_count": 518,
   "metadata": {},
   "outputs": [
    {
     "data": {
      "text/html": [
       "<div>\n",
       "<style scoped>\n",
       "    .dataframe tbody tr th:only-of-type {\n",
       "        vertical-align: middle;\n",
       "    }\n",
       "\n",
       "    .dataframe tbody tr th {\n",
       "        vertical-align: top;\n",
       "    }\n",
       "\n",
       "    .dataframe thead th {\n",
       "        text-align: right;\n",
       "    }\n",
       "</style>\n",
       "<table border=\"1\" class=\"dataframe\">\n",
       "  <thead>\n",
       "    <tr style=\"text-align: right;\">\n",
       "      <th></th>\n",
       "      <th>match_id</th>\n",
       "      <th>odd_bookmakers</th>\n",
       "      <th>odd_epoch</th>\n",
       "      <th>variable</th>\n",
       "      <th>value</th>\n",
       "    </tr>\n",
       "  </thead>\n",
       "  <tbody>\n",
       "    <tr>\n",
       "      <th>0</th>\n",
       "      <td>150842</td>\n",
       "      <td>Interwetten.es</td>\n",
       "      <td>1542450501</td>\n",
       "      <td>odd_1</td>\n",
       "      <td>1.45</td>\n",
       "    </tr>\n",
       "    <tr>\n",
       "      <th>1</th>\n",
       "      <td>150842</td>\n",
       "      <td>Titanbet</td>\n",
       "      <td>1542450501</td>\n",
       "      <td>odd_1</td>\n",
       "      <td>1.36</td>\n",
       "    </tr>\n",
       "    <tr>\n",
       "      <th>2</th>\n",
       "      <td>150842</td>\n",
       "      <td>ComeOn</td>\n",
       "      <td>1542450501</td>\n",
       "      <td>odd_1</td>\n",
       "      <td>1.39</td>\n",
       "    </tr>\n",
       "    <tr>\n",
       "      <th>3</th>\n",
       "      <td>150842</td>\n",
       "      <td>Jetbull</td>\n",
       "      <td>1542450501</td>\n",
       "      <td>odd_1</td>\n",
       "      <td>1.38</td>\n",
       "    </tr>\n",
       "    <tr>\n",
       "      <th>4</th>\n",
       "      <td>150842</td>\n",
       "      <td>NordicBet</td>\n",
       "      <td>1542450501</td>\n",
       "      <td>odd_1</td>\n",
       "      <td>1.40</td>\n",
       "    </tr>\n",
       "  </tbody>\n",
       "</table>\n",
       "</div>"
      ],
      "text/plain": [
       "   match_id  odd_bookmakers   odd_epoch variable  value\n",
       "0    150842  Interwetten.es  1542450501    odd_1   1.45\n",
       "1    150842        Titanbet  1542450501    odd_1   1.36\n",
       "2    150842          ComeOn  1542450501    odd_1   1.39\n",
       "3    150842         Jetbull  1542450501    odd_1   1.38\n",
       "4    150842       NordicBet  1542450501    odd_1   1.40"
      ]
     },
     "execution_count": 518,
     "metadata": {},
     "output_type": "execute_result"
    }
   ],
   "source": [
    "# we will work with bets and matches dataframes for this task\n",
    "bets.head()"
   ]
  },
  {
   "cell_type": "code",
   "execution_count": 519,
   "metadata": {},
   "outputs": [],
   "source": [
    "# converting odd_epoch column into datetime format for bets dataframe\n",
    "start = datetime(1970, 1, 1)  # Unix epoch start time\n",
    "bets['datetime'] = bets.odd_epoch.apply(lambda x: start + timedelta(seconds=x))"
   ]
  },
  {
   "cell_type": "code",
   "execution_count": 520,
   "metadata": {},
   "outputs": [
    {
     "data": {
      "text/html": [
       "<div>\n",
       "<style scoped>\n",
       "    .dataframe tbody tr th:only-of-type {\n",
       "        vertical-align: middle;\n",
       "    }\n",
       "\n",
       "    .dataframe tbody tr th {\n",
       "        vertical-align: top;\n",
       "    }\n",
       "\n",
       "    .dataframe thead th {\n",
       "        text-align: right;\n",
       "    }\n",
       "</style>\n",
       "<table border=\"1\" class=\"dataframe\">\n",
       "  <thead>\n",
       "    <tr style=\"text-align: right;\">\n",
       "      <th></th>\n",
       "      <th>odd_bookmakers</th>\n",
       "      <th>match_id</th>\n",
       "    </tr>\n",
       "  </thead>\n",
       "  <tbody>\n",
       "    <tr>\n",
       "      <th>3</th>\n",
       "      <td>1xBet</td>\n",
       "      <td>67512</td>\n",
       "    </tr>\n",
       "    <tr>\n",
       "      <th>2</th>\n",
       "      <td>18bet</td>\n",
       "      <td>48242</td>\n",
       "    </tr>\n",
       "    <tr>\n",
       "      <th>54</th>\n",
       "      <td>bet365</td>\n",
       "      <td>42039</td>\n",
       "    </tr>\n",
       "    <tr>\n",
       "      <th>21</th>\n",
       "      <td>Chance.cz</td>\n",
       "      <td>38888</td>\n",
       "    </tr>\n",
       "  </tbody>\n",
       "</table>\n",
       "</div>"
      ],
      "text/plain": [
       "   odd_bookmakers  match_id\n",
       "3           1xBet     67512\n",
       "2           18bet     48242\n",
       "54         bet365     42039\n",
       "21      Chance.cz     38888"
      ]
     },
     "metadata": {},
     "output_type": "display_data"
    }
   ],
   "source": [
    "# select top 4 bookmakers with highest number of bets\n",
    "# Group bets by odd_bookmakers then take count over groups\n",
    "grouped_bets = bets.groupby(\"odd_bookmakers\").count()[\"match_id\"].reset_index()\n",
    "# Sort the grouped bets dataframe in descending order and take first 4 rows\n",
    "grouped_bets_sorted = grouped_bets.sort_values(by = \"match_id\",ascending = False)\n",
    "display(grouped_bets_sorted[:4])\n",
    "# List of selected bookmakers\n",
    "selected_bookmakers = [\"1xBet\",\"18bet\",\"bet365\",\"Chance.cz\"]"
   ]
  },
  {
   "cell_type": "markdown",
   "metadata": {},
   "source": [
    "Analyze bets of single type(win,draw,loss)(odd_1,odd_x,odd_2) for each bookmaker"
   ]
  },
  {
   "cell_type": "markdown",
   "metadata": {},
   "source": [
    "**1xBet**"
   ]
  },
  {
   "cell_type": "code",
   "execution_count": 521,
   "metadata": {},
   "outputs": [],
   "source": [
    "# 1xBet\n",
    "# Filter odd_bookmaker:1xBet & variable: odd_1,odd_2 and odd_x for bets dataframe\n",
    "\n",
    "single_bets = [\"odd_1\",\"odd_2\",\"odd_x\"]\n",
    "xbet = bets[(bets[\"variable\"].isin(single_bets)) & (bets[\"odd_bookmakers\"] == \"1xBet\")]\n",
    "\n",
    "#drop duplicates for bet changes and take the last bet with the most recent time since we sometimes have multiple rows\n",
    "\n",
    "xbet_modified = xbet.sort_values('datetime').drop_duplicates(['match_id', 'odd_bookmakers', 'variable'],keep='last')\n",
    "\n",
    "# Calculate the P(home win), P(tie) and P(away win) by P(x) = 1/odd\n",
    "\n",
    "xbet_modified[\"probabilities\"] = xbet_modified.apply(lambda row: (1/row[\"value\"]),axis = 1)"
   ]
  },
  {
   "cell_type": "code",
   "execution_count": 522,
   "metadata": {
    "scrolled": true
   },
   "outputs": [
    {
     "data": {
      "text/html": [
       "<div>\n",
       "<style scoped>\n",
       "    .dataframe tbody tr th:only-of-type {\n",
       "        vertical-align: middle;\n",
       "    }\n",
       "\n",
       "    .dataframe tbody tr th {\n",
       "        vertical-align: top;\n",
       "    }\n",
       "\n",
       "    .dataframe thead th {\n",
       "        text-align: right;\n",
       "    }\n",
       "</style>\n",
       "<table border=\"1\" class=\"dataframe\">\n",
       "  <thead>\n",
       "    <tr style=\"text-align: right;\">\n",
       "      <th></th>\n",
       "      <th>match_id</th>\n",
       "      <th>odd_bookmakers</th>\n",
       "      <th>odd_epoch</th>\n",
       "      <th>variable</th>\n",
       "      <th>value</th>\n",
       "      <th>datetime</th>\n",
       "      <th>probabilities</th>\n",
       "    </tr>\n",
       "  </thead>\n",
       "  <tbody>\n",
       "    <tr>\n",
       "      <th>5887</th>\n",
       "      <td>152166</td>\n",
       "      <td>1xBet</td>\n",
       "      <td>1542307253</td>\n",
       "      <td>odd_2</td>\n",
       "      <td>4.26</td>\n",
       "      <td>2018-11-15 18:40:53</td>\n",
       "      <td>0.234742</td>\n",
       "    </tr>\n",
       "    <tr>\n",
       "      <th>5835</th>\n",
       "      <td>152166</td>\n",
       "      <td>1xBet</td>\n",
       "      <td>1542307253</td>\n",
       "      <td>odd_x</td>\n",
       "      <td>4.30</td>\n",
       "      <td>2018-11-15 18:40:53</td>\n",
       "      <td>0.232558</td>\n",
       "    </tr>\n",
       "    <tr>\n",
       "      <th>5783</th>\n",
       "      <td>152166</td>\n",
       "      <td>1xBet</td>\n",
       "      <td>1542307253</td>\n",
       "      <td>odd_1</td>\n",
       "      <td>1.65</td>\n",
       "      <td>2018-11-15 18:40:53</td>\n",
       "      <td>0.606061</td>\n",
       "    </tr>\n",
       "    <tr>\n",
       "      <th>53</th>\n",
       "      <td>150842</td>\n",
       "      <td>1xBet</td>\n",
       "      <td>1542450501</td>\n",
       "      <td>odd_1</td>\n",
       "      <td>1.38</td>\n",
       "      <td>2018-11-17 10:28:21</td>\n",
       "      <td>0.724638</td>\n",
       "    </tr>\n",
       "    <tr>\n",
       "      <th>912</th>\n",
       "      <td>150842</td>\n",
       "      <td>1xBet</td>\n",
       "      <td>1542450501</td>\n",
       "      <td>odd_x</td>\n",
       "      <td>4.92</td>\n",
       "      <td>2018-11-17 10:28:21</td>\n",
       "      <td>0.203252</td>\n",
       "    </tr>\n",
       "  </tbody>\n",
       "</table>\n",
       "</div>"
      ],
      "text/plain": [
       "      match_id odd_bookmakers   odd_epoch variable  value            datetime  \\\n",
       "5887    152166          1xBet  1542307253    odd_2   4.26 2018-11-15 18:40:53   \n",
       "5835    152166          1xBet  1542307253    odd_x   4.30 2018-11-15 18:40:53   \n",
       "5783    152166          1xBet  1542307253    odd_1   1.65 2018-11-15 18:40:53   \n",
       "53      150842          1xBet  1542450501    odd_1   1.38 2018-11-17 10:28:21   \n",
       "912     150842          1xBet  1542450501    odd_x   4.92 2018-11-17 10:28:21   \n",
       "\n",
       "      probabilities  \n",
       "5887       0.234742  \n",
       "5835       0.232558  \n",
       "5783       0.606061  \n",
       "53         0.724638  \n",
       "912        0.203252  "
      ]
     },
     "execution_count": 522,
     "metadata": {},
     "output_type": "execute_result"
    }
   ],
   "source": [
    "# Let's take a look at newly added column of probabilities for bookmaker 1xBet\n",
    "xbet_modified.head()"
   ]
  },
  {
   "cell_type": "markdown",
   "metadata": {},
   "source": [
    "**18bet**"
   ]
  },
  {
   "cell_type": "code",
   "execution_count": 523,
   "metadata": {},
   "outputs": [],
   "source": [
    "# 18bet\n",
    "# Filter odd_bookmaker:18bet & variable: odd_1,odd_2 and odd_x\n",
    "\n",
    "single_bets = [\"odd_1\",\"odd_2\",\"odd_x\"]\n",
    "eightbet = bets[(bets[\"variable\"].isin(single_bets)) & (bets[\"odd_bookmakers\"] == \"18bet\")]\n",
    "\n",
    "#drop duplicates for bet changes and take the last bet with the most recent time\n",
    "\n",
    "eightbet_modified = eightbet.sort_values('datetime').drop_duplicates(['match_id', 'odd_bookmakers', 'variable'],keep='last')\n",
    "\n",
    "# Calculate the P(home win), P(tie) and P(away win) by P(x) = 1/odd\n",
    "\n",
    "eightbet_modified[\"probabilities\"] = eightbet_modified.apply(lambda row: (1/row[\"value\"]),axis = 1)"
   ]
  },
  {
   "cell_type": "code",
   "execution_count": 524,
   "metadata": {
    "scrolled": true
   },
   "outputs": [
    {
     "data": {
      "text/html": [
       "<div>\n",
       "<style scoped>\n",
       "    .dataframe tbody tr th:only-of-type {\n",
       "        vertical-align: middle;\n",
       "    }\n",
       "\n",
       "    .dataframe tbody tr th {\n",
       "        vertical-align: top;\n",
       "    }\n",
       "\n",
       "    .dataframe thead th {\n",
       "        text-align: right;\n",
       "    }\n",
       "</style>\n",
       "<table border=\"1\" class=\"dataframe\">\n",
       "  <thead>\n",
       "    <tr style=\"text-align: right;\">\n",
       "      <th></th>\n",
       "      <th>match_id</th>\n",
       "      <th>odd_bookmakers</th>\n",
       "      <th>odd_epoch</th>\n",
       "      <th>variable</th>\n",
       "      <th>value</th>\n",
       "      <th>datetime</th>\n",
       "      <th>probabilities</th>\n",
       "    </tr>\n",
       "  </thead>\n",
       "  <tbody>\n",
       "    <tr>\n",
       "      <th>5773</th>\n",
       "      <td>152166</td>\n",
       "      <td>18bet</td>\n",
       "      <td>1542307253</td>\n",
       "      <td>odd_1</td>\n",
       "      <td>1.72</td>\n",
       "      <td>2018-11-15 18:40:53</td>\n",
       "      <td>0.581395</td>\n",
       "    </tr>\n",
       "    <tr>\n",
       "      <th>5825</th>\n",
       "      <td>152166</td>\n",
       "      <td>18bet</td>\n",
       "      <td>1542307253</td>\n",
       "      <td>odd_x</td>\n",
       "      <td>3.90</td>\n",
       "      <td>2018-11-15 18:40:53</td>\n",
       "      <td>0.256410</td>\n",
       "    </tr>\n",
       "    <tr>\n",
       "      <th>5877</th>\n",
       "      <td>152166</td>\n",
       "      <td>18bet</td>\n",
       "      <td>1542307253</td>\n",
       "      <td>odd_2</td>\n",
       "      <td>4.00</td>\n",
       "      <td>2018-11-15 18:40:53</td>\n",
       "      <td>0.250000</td>\n",
       "    </tr>\n",
       "    <tr>\n",
       "      <th>1759</th>\n",
       "      <td>150842</td>\n",
       "      <td>18bet</td>\n",
       "      <td>1542450501</td>\n",
       "      <td>odd_2</td>\n",
       "      <td>8.50</td>\n",
       "      <td>2018-11-17 10:28:21</td>\n",
       "      <td>0.117647</td>\n",
       "    </tr>\n",
       "    <tr>\n",
       "      <th>900</th>\n",
       "      <td>150842</td>\n",
       "      <td>18bet</td>\n",
       "      <td>1542450501</td>\n",
       "      <td>odd_x</td>\n",
       "      <td>5.00</td>\n",
       "      <td>2018-11-17 10:28:21</td>\n",
       "      <td>0.200000</td>\n",
       "    </tr>\n",
       "  </tbody>\n",
       "</table>\n",
       "</div>"
      ],
      "text/plain": [
       "      match_id odd_bookmakers   odd_epoch variable  value            datetime  \\\n",
       "5773    152166          18bet  1542307253    odd_1   1.72 2018-11-15 18:40:53   \n",
       "5825    152166          18bet  1542307253    odd_x   3.90 2018-11-15 18:40:53   \n",
       "5877    152166          18bet  1542307253    odd_2   4.00 2018-11-15 18:40:53   \n",
       "1759    150842          18bet  1542450501    odd_2   8.50 2018-11-17 10:28:21   \n",
       "900     150842          18bet  1542450501    odd_x   5.00 2018-11-17 10:28:21   \n",
       "\n",
       "      probabilities  \n",
       "5773       0.581395  \n",
       "5825       0.256410  \n",
       "5877       0.250000  \n",
       "1759       0.117647  \n",
       "900        0.200000  "
      ]
     },
     "execution_count": 524,
     "metadata": {},
     "output_type": "execute_result"
    }
   ],
   "source": [
    "eightbet_modified.head()"
   ]
  },
  {
   "cell_type": "markdown",
   "metadata": {},
   "source": [
    "**bet365**"
   ]
  },
  {
   "cell_type": "code",
   "execution_count": 525,
   "metadata": {},
   "outputs": [],
   "source": [
    "# bet365\n",
    "# Filter odd_bookmaker:bet365 & variable: odd_1,odd_2 and odd_x\n",
    "\n",
    "single_bets = [\"odd_1\",\"odd_2\",\"odd_x\"]\n",
    "bet365 = bets[(bets[\"variable\"].isin(single_bets)) & (bets[\"odd_bookmakers\"] == \"bet365\")]\n",
    "\n",
    "#drop duplicates for bet changes and take the last bet with the most recent time\n",
    "\n",
    "bet365_modified = bet365.sort_values('datetime').drop_duplicates(['match_id', 'odd_bookmakers', 'variable'],keep='last')\n",
    "\n",
    "# Calculate the P(home win), P(tie) and P(away win) by P(x) = 1/odd\n",
    "# Here we had an interesting case one value was equal to 0 for odd_1 and we got a ZeroDivisionError.\n",
    "# That value is replaced with 0\n",
    "\n",
    "bet365_modified[\"probabilities\"] = 1/(bet365_modified[\"value\"])\n",
    "bet365_modified.loc[~np.isfinite(bet365_modified['probabilities']), 'probabilities'] = 0"
   ]
  },
  {
   "cell_type": "code",
   "execution_count": 526,
   "metadata": {
    "scrolled": true
   },
   "outputs": [
    {
     "data": {
      "text/html": [
       "<div>\n",
       "<style scoped>\n",
       "    .dataframe tbody tr th:only-of-type {\n",
       "        vertical-align: middle;\n",
       "    }\n",
       "\n",
       "    .dataframe tbody tr th {\n",
       "        vertical-align: top;\n",
       "    }\n",
       "\n",
       "    .dataframe thead th {\n",
       "        text-align: right;\n",
       "    }\n",
       "</style>\n",
       "<table border=\"1\" class=\"dataframe\">\n",
       "  <thead>\n",
       "    <tr style=\"text-align: right;\">\n",
       "      <th></th>\n",
       "      <th>match_id</th>\n",
       "      <th>odd_bookmakers</th>\n",
       "      <th>odd_epoch</th>\n",
       "      <th>variable</th>\n",
       "      <th>value</th>\n",
       "      <th>datetime</th>\n",
       "      <th>probabilities</th>\n",
       "    </tr>\n",
       "  </thead>\n",
       "  <tbody>\n",
       "    <tr>\n",
       "      <th>5854</th>\n",
       "      <td>152166</td>\n",
       "      <td>bet365</td>\n",
       "      <td>1542307253</td>\n",
       "      <td>odd_2</td>\n",
       "      <td>4.33</td>\n",
       "      <td>2018-11-15 18:40:53</td>\n",
       "      <td>0.230947</td>\n",
       "    </tr>\n",
       "    <tr>\n",
       "      <th>5802</th>\n",
       "      <td>152166</td>\n",
       "      <td>bet365</td>\n",
       "      <td>1542307253</td>\n",
       "      <td>odd_x</td>\n",
       "      <td>3.75</td>\n",
       "      <td>2018-11-15 18:40:53</td>\n",
       "      <td>0.266667</td>\n",
       "    </tr>\n",
       "    <tr>\n",
       "      <th>5750</th>\n",
       "      <td>152166</td>\n",
       "      <td>bet365</td>\n",
       "      <td>1542307253</td>\n",
       "      <td>odd_1</td>\n",
       "      <td>1.61</td>\n",
       "      <td>2018-11-15 18:40:53</td>\n",
       "      <td>0.621118</td>\n",
       "    </tr>\n",
       "    <tr>\n",
       "      <th>15</th>\n",
       "      <td>150842</td>\n",
       "      <td>bet365</td>\n",
       "      <td>1542450501</td>\n",
       "      <td>odd_1</td>\n",
       "      <td>1.40</td>\n",
       "      <td>2018-11-17 10:28:21</td>\n",
       "      <td>0.714286</td>\n",
       "    </tr>\n",
       "    <tr>\n",
       "      <th>874</th>\n",
       "      <td>150842</td>\n",
       "      <td>bet365</td>\n",
       "      <td>1542450501</td>\n",
       "      <td>odd_x</td>\n",
       "      <td>5.00</td>\n",
       "      <td>2018-11-17 10:28:21</td>\n",
       "      <td>0.200000</td>\n",
       "    </tr>\n",
       "  </tbody>\n",
       "</table>\n",
       "</div>"
      ],
      "text/plain": [
       "      match_id odd_bookmakers   odd_epoch variable  value            datetime  \\\n",
       "5854    152166         bet365  1542307253    odd_2   4.33 2018-11-15 18:40:53   \n",
       "5802    152166         bet365  1542307253    odd_x   3.75 2018-11-15 18:40:53   \n",
       "5750    152166         bet365  1542307253    odd_1   1.61 2018-11-15 18:40:53   \n",
       "15      150842         bet365  1542450501    odd_1   1.40 2018-11-17 10:28:21   \n",
       "874     150842         bet365  1542450501    odd_x   5.00 2018-11-17 10:28:21   \n",
       "\n",
       "      probabilities  \n",
       "5854       0.230947  \n",
       "5802       0.266667  \n",
       "5750       0.621118  \n",
       "15         0.714286  \n",
       "874        0.200000  "
      ]
     },
     "execution_count": 526,
     "metadata": {},
     "output_type": "execute_result"
    }
   ],
   "source": [
    "bet365_modified.head()"
   ]
  },
  {
   "cell_type": "markdown",
   "metadata": {},
   "source": [
    "**Chance.cz**"
   ]
  },
  {
   "cell_type": "code",
   "execution_count": 527,
   "metadata": {},
   "outputs": [],
   "source": [
    "# Chance.cz\n",
    "# Filter odd_bookmaker:1xBet & variable: odd_1,odd_2 and odd_x\n",
    "\n",
    "single_bets = [\"odd_1\",\"odd_2\",\"odd_x\"]\n",
    "chance = bets[(bets[\"variable\"].isin(single_bets)) & (bets[\"odd_bookmakers\"] == \"Chance.cz\")]\n",
    "\n",
    "#drop duplicates for bet changes and take the last bet with the most recent time\n",
    "\n",
    "chance_modified = chance.sort_values('datetime').drop_duplicates(['match_id', 'odd_bookmakers', 'variable'],keep='last')\n",
    "\n",
    "# Calculate the P(home win), P(tie) and P(away win) by P(x) = 1/odd\n",
    "\n",
    "chance_modified[\"probabilities\"] = chance_modified.apply(lambda row: (1/row[\"value\"]),axis = 1)"
   ]
  },
  {
   "cell_type": "code",
   "execution_count": 528,
   "metadata": {},
   "outputs": [
    {
     "data": {
      "text/html": [
       "<div>\n",
       "<style scoped>\n",
       "    .dataframe tbody tr th:only-of-type {\n",
       "        vertical-align: middle;\n",
       "    }\n",
       "\n",
       "    .dataframe tbody tr th {\n",
       "        vertical-align: top;\n",
       "    }\n",
       "\n",
       "    .dataframe thead th {\n",
       "        text-align: right;\n",
       "    }\n",
       "</style>\n",
       "<table border=\"1\" class=\"dataframe\">\n",
       "  <thead>\n",
       "    <tr style=\"text-align: right;\">\n",
       "      <th></th>\n",
       "      <th>match_id</th>\n",
       "      <th>odd_bookmakers</th>\n",
       "      <th>odd_epoch</th>\n",
       "      <th>variable</th>\n",
       "      <th>value</th>\n",
       "      <th>datetime</th>\n",
       "      <th>probabilities</th>\n",
       "    </tr>\n",
       "  </thead>\n",
       "  <tbody>\n",
       "    <tr>\n",
       "      <th>5780</th>\n",
       "      <td>152166</td>\n",
       "      <td>Chance.cz</td>\n",
       "      <td>1542307253</td>\n",
       "      <td>odd_1</td>\n",
       "      <td>1.71</td>\n",
       "      <td>2018-11-15 18:40:53</td>\n",
       "      <td>0.584795</td>\n",
       "    </tr>\n",
       "    <tr>\n",
       "      <th>5832</th>\n",
       "      <td>152166</td>\n",
       "      <td>Chance.cz</td>\n",
       "      <td>1542307253</td>\n",
       "      <td>odd_x</td>\n",
       "      <td>3.80</td>\n",
       "      <td>2018-11-15 18:40:53</td>\n",
       "      <td>0.263158</td>\n",
       "    </tr>\n",
       "    <tr>\n",
       "      <th>5884</th>\n",
       "      <td>152166</td>\n",
       "      <td>Chance.cz</td>\n",
       "      <td>1542307253</td>\n",
       "      <td>odd_2</td>\n",
       "      <td>4.36</td>\n",
       "      <td>2018-11-15 18:40:53</td>\n",
       "      <td>0.229358</td>\n",
       "    </tr>\n",
       "    <tr>\n",
       "      <th>50</th>\n",
       "      <td>150842</td>\n",
       "      <td>Chance.cz</td>\n",
       "      <td>1542450501</td>\n",
       "      <td>odd_1</td>\n",
       "      <td>1.39</td>\n",
       "      <td>2018-11-17 10:28:21</td>\n",
       "      <td>0.719424</td>\n",
       "    </tr>\n",
       "    <tr>\n",
       "      <th>909</th>\n",
       "      <td>150842</td>\n",
       "      <td>Chance.cz</td>\n",
       "      <td>1542450501</td>\n",
       "      <td>odd_x</td>\n",
       "      <td>5.13</td>\n",
       "      <td>2018-11-17 10:28:21</td>\n",
       "      <td>0.194932</td>\n",
       "    </tr>\n",
       "  </tbody>\n",
       "</table>\n",
       "</div>"
      ],
      "text/plain": [
       "      match_id odd_bookmakers   odd_epoch variable  value            datetime  \\\n",
       "5780    152166      Chance.cz  1542307253    odd_1   1.71 2018-11-15 18:40:53   \n",
       "5832    152166      Chance.cz  1542307253    odd_x   3.80 2018-11-15 18:40:53   \n",
       "5884    152166      Chance.cz  1542307253    odd_2   4.36 2018-11-15 18:40:53   \n",
       "50      150842      Chance.cz  1542450501    odd_1   1.39 2018-11-17 10:28:21   \n",
       "909     150842      Chance.cz  1542450501    odd_x   5.13 2018-11-17 10:28:21   \n",
       "\n",
       "      probabilities  \n",
       "5780       0.584795  \n",
       "5832       0.263158  \n",
       "5884       0.229358  \n",
       "50         0.719424  \n",
       "909        0.194932  "
      ]
     },
     "execution_count": 528,
     "metadata": {},
     "output_type": "execute_result"
    }
   ],
   "source": [
    "chance_modified.head()"
   ]
  },
  {
   "cell_type": "markdown",
   "metadata": {},
   "source": [
    "**2.Calculate these probabilities again using normalization formula for each bookmaker**"
   ]
  },
  {
   "cell_type": "markdown",
   "metadata": {},
   "source": [
    "**1xBet**"
   ]
  },
  {
   "cell_type": "code",
   "execution_count": 529,
   "metadata": {
    "scrolled": true
   },
   "outputs": [],
   "source": [
    "# 1xBet\n",
    "# create a series object by groupby on match id column and summation of 1/row for that id then take the inverse.\n",
    "a = 1/(xbet_modified.groupby(\"match_id\").apply(lambda row: np.sum(1/row.value)))\n",
    "# convert series object into a dictionary\n",
    "b = a.to_dict()\n",
    "# map the dictionary keys being match_id's then multiply with probabilities column to get normalized probabiilities\n",
    "xbet_modified[\"normalized_probs\"] = (xbet_modified[\"match_id\"].map(b)) *  (xbet_modified[\"probabilities\"])"
   ]
  },
  {
   "cell_type": "markdown",
   "metadata": {},
   "source": [
    "Let's verify the results of our newly created column normalized probs"
   ]
  },
  {
   "cell_type": "markdown",
   "metadata": {},
   "source": [
    "Pick a match_id as our choice of example : **152166**"
   ]
  },
  {
   "cell_type": "code",
   "execution_count": 530,
   "metadata": {},
   "outputs": [
    {
     "data": {
      "text/html": [
       "<div>\n",
       "<style scoped>\n",
       "    .dataframe tbody tr th:only-of-type {\n",
       "        vertical-align: middle;\n",
       "    }\n",
       "\n",
       "    .dataframe tbody tr th {\n",
       "        vertical-align: top;\n",
       "    }\n",
       "\n",
       "    .dataframe thead th {\n",
       "        text-align: right;\n",
       "    }\n",
       "</style>\n",
       "<table border=\"1\" class=\"dataframe\">\n",
       "  <thead>\n",
       "    <tr style=\"text-align: right;\">\n",
       "      <th></th>\n",
       "      <th>match_id</th>\n",
       "      <th>odd_bookmakers</th>\n",
       "      <th>odd_epoch</th>\n",
       "      <th>variable</th>\n",
       "      <th>value</th>\n",
       "      <th>datetime</th>\n",
       "      <th>probabilities</th>\n",
       "      <th>normalized_probs</th>\n",
       "    </tr>\n",
       "  </thead>\n",
       "  <tbody>\n",
       "    <tr>\n",
       "      <th>5887</th>\n",
       "      <td>152166</td>\n",
       "      <td>1xBet</td>\n",
       "      <td>1542307253</td>\n",
       "      <td>odd_2</td>\n",
       "      <td>4.26</td>\n",
       "      <td>2018-11-15 18:40:53</td>\n",
       "      <td>0.234742</td>\n",
       "      <td>0.218698</td>\n",
       "    </tr>\n",
       "    <tr>\n",
       "      <th>5835</th>\n",
       "      <td>152166</td>\n",
       "      <td>1xBet</td>\n",
       "      <td>1542307253</td>\n",
       "      <td>odd_x</td>\n",
       "      <td>4.30</td>\n",
       "      <td>2018-11-15 18:40:53</td>\n",
       "      <td>0.232558</td>\n",
       "      <td>0.216664</td>\n",
       "    </tr>\n",
       "    <tr>\n",
       "      <th>5783</th>\n",
       "      <td>152166</td>\n",
       "      <td>1xBet</td>\n",
       "      <td>1542307253</td>\n",
       "      <td>odd_1</td>\n",
       "      <td>1.65</td>\n",
       "      <td>2018-11-15 18:40:53</td>\n",
       "      <td>0.606061</td>\n",
       "      <td>0.564638</td>\n",
       "    </tr>\n",
       "  </tbody>\n",
       "</table>\n",
       "</div>"
      ],
      "text/plain": [
       "      match_id odd_bookmakers   odd_epoch variable  value            datetime  \\\n",
       "5887    152166          1xBet  1542307253    odd_2   4.26 2018-11-15 18:40:53   \n",
       "5835    152166          1xBet  1542307253    odd_x   4.30 2018-11-15 18:40:53   \n",
       "5783    152166          1xBet  1542307253    odd_1   1.65 2018-11-15 18:40:53   \n",
       "\n",
       "      probabilities  normalized_probs  \n",
       "5887       0.234742          0.218698  \n",
       "5835       0.232558          0.216664  \n",
       "5783       0.606061          0.564638  "
      ]
     },
     "metadata": {},
     "output_type": "display_data"
    }
   ],
   "source": [
    "display(xbet_modified[xbet_modified[\"match_id\"] == 152166])"
   ]
  },
  {
   "cell_type": "markdown",
   "metadata": {},
   "source": [
    "For the normalized probababilities our calculations should be: (1/value) * (1/(1/value_1 + 1/value_x +  1/value_2))"
   ]
  },
  {
   "cell_type": "markdown",
   "metadata": {},
   "source": [
    "So, in this case : (1/4.26) * (1/(1/4.26 + 1/4.30 +  1/1.65)) = 0.218698 as can be seen from the dataframe above"
   ]
  },
  {
   "cell_type": "markdown",
   "metadata": {},
   "source": [
    "**18bet**"
   ]
  },
  {
   "cell_type": "code",
   "execution_count": 531,
   "metadata": {},
   "outputs": [],
   "source": [
    "# 18bet\n",
    "# create a series object by groupby on match id column and summation of 1/row for that id than take the inverse.\n",
    "c = 1/(eightbet_modified.groupby(\"match_id\").apply(lambda row: np.sum(1/row.value)))\n",
    "# convert series object into a dictionary\n",
    "d = c.to_dict()\n",
    "# map the dictionary keys being match_id's then multiply with probabilities column to get normalized probabiilities\n",
    "eightbet_modified[\"normalized_probs\"] = (eightbet_modified[\"match_id\"].map(d)) *  (eightbet_modified[\"probabilities\"])"
   ]
  },
  {
   "cell_type": "code",
   "execution_count": 532,
   "metadata": {},
   "outputs": [
    {
     "data": {
      "text/html": [
       "<div>\n",
       "<style scoped>\n",
       "    .dataframe tbody tr th:only-of-type {\n",
       "        vertical-align: middle;\n",
       "    }\n",
       "\n",
       "    .dataframe tbody tr th {\n",
       "        vertical-align: top;\n",
       "    }\n",
       "\n",
       "    .dataframe thead th {\n",
       "        text-align: right;\n",
       "    }\n",
       "</style>\n",
       "<table border=\"1\" class=\"dataframe\">\n",
       "  <thead>\n",
       "    <tr style=\"text-align: right;\">\n",
       "      <th></th>\n",
       "      <th>match_id</th>\n",
       "      <th>odd_bookmakers</th>\n",
       "      <th>odd_epoch</th>\n",
       "      <th>variable</th>\n",
       "      <th>value</th>\n",
       "      <th>datetime</th>\n",
       "      <th>probabilities</th>\n",
       "      <th>normalized_probs</th>\n",
       "    </tr>\n",
       "  </thead>\n",
       "  <tbody>\n",
       "    <tr>\n",
       "      <th>5773</th>\n",
       "      <td>152166</td>\n",
       "      <td>18bet</td>\n",
       "      <td>1542307253</td>\n",
       "      <td>odd_1</td>\n",
       "      <td>1.72</td>\n",
       "      <td>2018-11-15 18:40:53</td>\n",
       "      <td>0.581395</td>\n",
       "      <td>0.534466</td>\n",
       "    </tr>\n",
       "    <tr>\n",
       "      <th>5825</th>\n",
       "      <td>152166</td>\n",
       "      <td>18bet</td>\n",
       "      <td>1542307253</td>\n",
       "      <td>odd_x</td>\n",
       "      <td>3.90</td>\n",
       "      <td>2018-11-15 18:40:53</td>\n",
       "      <td>0.256410</td>\n",
       "      <td>0.235713</td>\n",
       "    </tr>\n",
       "    <tr>\n",
       "      <th>5877</th>\n",
       "      <td>152166</td>\n",
       "      <td>18bet</td>\n",
       "      <td>1542307253</td>\n",
       "      <td>odd_2</td>\n",
       "      <td>4.00</td>\n",
       "      <td>2018-11-15 18:40:53</td>\n",
       "      <td>0.250000</td>\n",
       "      <td>0.229820</td>\n",
       "    </tr>\n",
       "    <tr>\n",
       "      <th>1759</th>\n",
       "      <td>150842</td>\n",
       "      <td>18bet</td>\n",
       "      <td>1542450501</td>\n",
       "      <td>odd_2</td>\n",
       "      <td>8.50</td>\n",
       "      <td>2018-11-17 10:28:21</td>\n",
       "      <td>0.117647</td>\n",
       "      <td>0.114007</td>\n",
       "    </tr>\n",
       "    <tr>\n",
       "      <th>900</th>\n",
       "      <td>150842</td>\n",
       "      <td>18bet</td>\n",
       "      <td>1542450501</td>\n",
       "      <td>odd_x</td>\n",
       "      <td>5.00</td>\n",
       "      <td>2018-11-17 10:28:21</td>\n",
       "      <td>0.200000</td>\n",
       "      <td>0.193811</td>\n",
       "    </tr>\n",
       "  </tbody>\n",
       "</table>\n",
       "</div>"
      ],
      "text/plain": [
       "      match_id odd_bookmakers   odd_epoch variable  value            datetime  \\\n",
       "5773    152166          18bet  1542307253    odd_1   1.72 2018-11-15 18:40:53   \n",
       "5825    152166          18bet  1542307253    odd_x   3.90 2018-11-15 18:40:53   \n",
       "5877    152166          18bet  1542307253    odd_2   4.00 2018-11-15 18:40:53   \n",
       "1759    150842          18bet  1542450501    odd_2   8.50 2018-11-17 10:28:21   \n",
       "900     150842          18bet  1542450501    odd_x   5.00 2018-11-17 10:28:21   \n",
       "\n",
       "      probabilities  normalized_probs  \n",
       "5773       0.581395          0.534466  \n",
       "5825       0.256410          0.235713  \n",
       "5877       0.250000          0.229820  \n",
       "1759       0.117647          0.114007  \n",
       "900        0.200000          0.193811  "
      ]
     },
     "execution_count": 532,
     "metadata": {},
     "output_type": "execute_result"
    }
   ],
   "source": [
    "eightbet_modified.head()"
   ]
  },
  {
   "cell_type": "markdown",
   "metadata": {},
   "source": [
    "**bet365**"
   ]
  },
  {
   "cell_type": "code",
   "execution_count": 533,
   "metadata": {},
   "outputs": [],
   "source": [
    "# bet365\n",
    "# create a series object by groupby on match id column and summation of 1/row for that id than take the inverse.\n",
    "e = 1/(bet365_modified.groupby(\"match_id\").apply(lambda row: np.sum(1/row.value)))\n",
    "# convert series object into a dictionary\n",
    "f = e.to_dict()\n",
    "# map the dictionary keys being match_id's then multiply with probabilities column to get normalized probabiilities\n",
    "bet365_modified[\"normalized_probs\"] = (bet365_modified[\"match_id\"].map(f)) *  (bet365_modified[\"probabilities\"])"
   ]
  },
  {
   "cell_type": "code",
   "execution_count": 534,
   "metadata": {},
   "outputs": [
    {
     "data": {
      "text/html": [
       "<div>\n",
       "<style scoped>\n",
       "    .dataframe tbody tr th:only-of-type {\n",
       "        vertical-align: middle;\n",
       "    }\n",
       "\n",
       "    .dataframe tbody tr th {\n",
       "        vertical-align: top;\n",
       "    }\n",
       "\n",
       "    .dataframe thead th {\n",
       "        text-align: right;\n",
       "    }\n",
       "</style>\n",
       "<table border=\"1\" class=\"dataframe\">\n",
       "  <thead>\n",
       "    <tr style=\"text-align: right;\">\n",
       "      <th></th>\n",
       "      <th>match_id</th>\n",
       "      <th>odd_bookmakers</th>\n",
       "      <th>odd_epoch</th>\n",
       "      <th>variable</th>\n",
       "      <th>value</th>\n",
       "      <th>datetime</th>\n",
       "      <th>probabilities</th>\n",
       "      <th>normalized_probs</th>\n",
       "    </tr>\n",
       "  </thead>\n",
       "  <tbody>\n",
       "    <tr>\n",
       "      <th>5854</th>\n",
       "      <td>152166</td>\n",
       "      <td>bet365</td>\n",
       "      <td>1542307253</td>\n",
       "      <td>odd_2</td>\n",
       "      <td>4.33</td>\n",
       "      <td>2018-11-15 18:40:53</td>\n",
       "      <td>0.230947</td>\n",
       "      <td>0.206436</td>\n",
       "    </tr>\n",
       "    <tr>\n",
       "      <th>5802</th>\n",
       "      <td>152166</td>\n",
       "      <td>bet365</td>\n",
       "      <td>1542307253</td>\n",
       "      <td>odd_x</td>\n",
       "      <td>3.75</td>\n",
       "      <td>2018-11-15 18:40:53</td>\n",
       "      <td>0.266667</td>\n",
       "      <td>0.238365</td>\n",
       "    </tr>\n",
       "    <tr>\n",
       "      <th>5750</th>\n",
       "      <td>152166</td>\n",
       "      <td>bet365</td>\n",
       "      <td>1542307253</td>\n",
       "      <td>odd_1</td>\n",
       "      <td>1.61</td>\n",
       "      <td>2018-11-15 18:40:53</td>\n",
       "      <td>0.621118</td>\n",
       "      <td>0.555198</td>\n",
       "    </tr>\n",
       "    <tr>\n",
       "      <th>15</th>\n",
       "      <td>150842</td>\n",
       "      <td>bet365</td>\n",
       "      <td>1542450501</td>\n",
       "      <td>odd_1</td>\n",
       "      <td>1.40</td>\n",
       "      <td>2018-11-17 10:28:21</td>\n",
       "      <td>0.714286</td>\n",
       "      <td>0.696594</td>\n",
       "    </tr>\n",
       "    <tr>\n",
       "      <th>874</th>\n",
       "      <td>150842</td>\n",
       "      <td>bet365</td>\n",
       "      <td>1542450501</td>\n",
       "      <td>odd_x</td>\n",
       "      <td>5.00</td>\n",
       "      <td>2018-11-17 10:28:21</td>\n",
       "      <td>0.200000</td>\n",
       "      <td>0.195046</td>\n",
       "    </tr>\n",
       "  </tbody>\n",
       "</table>\n",
       "</div>"
      ],
      "text/plain": [
       "      match_id odd_bookmakers   odd_epoch variable  value            datetime  \\\n",
       "5854    152166         bet365  1542307253    odd_2   4.33 2018-11-15 18:40:53   \n",
       "5802    152166         bet365  1542307253    odd_x   3.75 2018-11-15 18:40:53   \n",
       "5750    152166         bet365  1542307253    odd_1   1.61 2018-11-15 18:40:53   \n",
       "15      150842         bet365  1542450501    odd_1   1.40 2018-11-17 10:28:21   \n",
       "874     150842         bet365  1542450501    odd_x   5.00 2018-11-17 10:28:21   \n",
       "\n",
       "      probabilities  normalized_probs  \n",
       "5854       0.230947          0.206436  \n",
       "5802       0.266667          0.238365  \n",
       "5750       0.621118          0.555198  \n",
       "15         0.714286          0.696594  \n",
       "874        0.200000          0.195046  "
      ]
     },
     "execution_count": 534,
     "metadata": {},
     "output_type": "execute_result"
    }
   ],
   "source": [
    "bet365_modified.head()"
   ]
  },
  {
   "cell_type": "markdown",
   "metadata": {},
   "source": [
    "**Chance.cz**"
   ]
  },
  {
   "cell_type": "code",
   "execution_count": 535,
   "metadata": {},
   "outputs": [],
   "source": [
    "# Chance.cz\n",
    "# create a series object by groupby on match id column and summation of 1/row for that id than take the inverse.\n",
    "g = 1/(chance_modified.groupby(\"match_id\").apply(lambda row: np.sum(1/row.value)))\n",
    "# convert series object into a dictionary\n",
    "h = g.to_dict()\n",
    "# map the dictionary keys being match_id's then multiply with probabilities column to get normalized probabiilities\n",
    "chance_modified[\"normalized_probs\"] = (chance_modified[\"match_id\"].map(h)) *  (chance_modified[\"probabilities\"])"
   ]
  },
  {
   "cell_type": "code",
   "execution_count": 536,
   "metadata": {},
   "outputs": [
    {
     "data": {
      "text/html": [
       "<div>\n",
       "<style scoped>\n",
       "    .dataframe tbody tr th:only-of-type {\n",
       "        vertical-align: middle;\n",
       "    }\n",
       "\n",
       "    .dataframe tbody tr th {\n",
       "        vertical-align: top;\n",
       "    }\n",
       "\n",
       "    .dataframe thead th {\n",
       "        text-align: right;\n",
       "    }\n",
       "</style>\n",
       "<table border=\"1\" class=\"dataframe\">\n",
       "  <thead>\n",
       "    <tr style=\"text-align: right;\">\n",
       "      <th></th>\n",
       "      <th>match_id</th>\n",
       "      <th>odd_bookmakers</th>\n",
       "      <th>odd_epoch</th>\n",
       "      <th>variable</th>\n",
       "      <th>value</th>\n",
       "      <th>datetime</th>\n",
       "      <th>probabilities</th>\n",
       "      <th>normalized_probs</th>\n",
       "    </tr>\n",
       "  </thead>\n",
       "  <tbody>\n",
       "    <tr>\n",
       "      <th>5780</th>\n",
       "      <td>152166</td>\n",
       "      <td>Chance.cz</td>\n",
       "      <td>1542307253</td>\n",
       "      <td>odd_1</td>\n",
       "      <td>1.71</td>\n",
       "      <td>2018-11-15 18:40:53</td>\n",
       "      <td>0.584795</td>\n",
       "      <td>0.542829</td>\n",
       "    </tr>\n",
       "    <tr>\n",
       "      <th>5832</th>\n",
       "      <td>152166</td>\n",
       "      <td>Chance.cz</td>\n",
       "      <td>1542307253</td>\n",
       "      <td>odd_x</td>\n",
       "      <td>3.80</td>\n",
       "      <td>2018-11-15 18:40:53</td>\n",
       "      <td>0.263158</td>\n",
       "      <td>0.244273</td>\n",
       "    </tr>\n",
       "    <tr>\n",
       "      <th>5884</th>\n",
       "      <td>152166</td>\n",
       "      <td>Chance.cz</td>\n",
       "      <td>1542307253</td>\n",
       "      <td>odd_2</td>\n",
       "      <td>4.36</td>\n",
       "      <td>2018-11-15 18:40:53</td>\n",
       "      <td>0.229358</td>\n",
       "      <td>0.212898</td>\n",
       "    </tr>\n",
       "    <tr>\n",
       "      <th>50</th>\n",
       "      <td>150842</td>\n",
       "      <td>Chance.cz</td>\n",
       "      <td>1542450501</td>\n",
       "      <td>odd_1</td>\n",
       "      <td>1.39</td>\n",
       "      <td>2018-11-17 10:28:21</td>\n",
       "      <td>0.719424</td>\n",
       "      <td>0.699570</td>\n",
       "    </tr>\n",
       "    <tr>\n",
       "      <th>909</th>\n",
       "      <td>150842</td>\n",
       "      <td>Chance.cz</td>\n",
       "      <td>1542450501</td>\n",
       "      <td>odd_x</td>\n",
       "      <td>5.13</td>\n",
       "      <td>2018-11-17 10:28:21</td>\n",
       "      <td>0.194932</td>\n",
       "      <td>0.189552</td>\n",
       "    </tr>\n",
       "  </tbody>\n",
       "</table>\n",
       "</div>"
      ],
      "text/plain": [
       "      match_id odd_bookmakers   odd_epoch variable  value            datetime  \\\n",
       "5780    152166      Chance.cz  1542307253    odd_1   1.71 2018-11-15 18:40:53   \n",
       "5832    152166      Chance.cz  1542307253    odd_x   3.80 2018-11-15 18:40:53   \n",
       "5884    152166      Chance.cz  1542307253    odd_2   4.36 2018-11-15 18:40:53   \n",
       "50      150842      Chance.cz  1542450501    odd_1   1.39 2018-11-17 10:28:21   \n",
       "909     150842      Chance.cz  1542450501    odd_x   5.13 2018-11-17 10:28:21   \n",
       "\n",
       "      probabilities  normalized_probs  \n",
       "5780       0.584795          0.542829  \n",
       "5832       0.263158          0.244273  \n",
       "5884       0.229358          0.212898  \n",
       "50         0.719424          0.699570  \n",
       "909        0.194932          0.189552  "
      ]
     },
     "execution_count": 536,
     "metadata": {},
     "output_type": "execute_result"
    }
   ],
   "source": [
    "chance_modified.head()"
   ]
  },
  {
   "cell_type": "markdown",
   "metadata": {},
   "source": [
    "**Construct a plot of P(home win) – P(away win) on x-axis and P (tie) on y-axis with first\n",
    "probability calculation; then plot the actual probabilities calculated using the results**"
   ]
  },
  {
   "cell_type": "markdown",
   "metadata": {},
   "source": [
    "**For this part we will follow these steps:** <br>  1. For each bookmaker seperate home win, away win and draw probabilities into dataframes<br> 2.Then merge them with matches dataframe so that we can have access to draw scores for calculation<br>3.Calculate P(Home)-P(Away) probabilities and add this as a column<br>4.Divide P(Home-Away) column into bins<br>5.Perform calculation of # of draws in each bin over total games in that bin<br>6.Plot the graph"
   ]
  },
  {
   "cell_type": "markdown",
   "metadata": {},
   "source": [
    "1. For each bookmaker seperate home win, away win and draw probabilities into dataframes"
   ]
  },
  {
   "cell_type": "markdown",
   "metadata": {},
   "source": [
    "**1xBet**"
   ]
  },
  {
   "cell_type": "code",
   "execution_count": 537,
   "metadata": {},
   "outputs": [],
   "source": [
    "# 1xBet\n",
    "# Dataframe for home win\n",
    "xbet_homewin = xbet_modified[xbet_modified[\"variable\"] == \"odd_1\"]\n",
    "xbet_homewin = xbet_homewin[[\"match_id\",\"probabilities\"]]\n",
    "xbet_homewin = xbet_homewin.rename(columns = {\"probabilities\" : \"homewin_probs\"})\n",
    "# Dataframe for away win\n",
    "xbet_awaywin = xbet_modified[xbet_modified[\"variable\"] == \"odd_2\"]\n",
    "xbet_awaywin = xbet_awaywin[[\"match_id\",\"probabilities\"]]\n",
    "xbet_awaywin = xbet_awaywin.rename(columns = {\"probabilities\" : \"awaywin_probs\"})\n",
    "# Dataframe for draw\n",
    "xbet_draw = xbet_modified[xbet_modified[\"variable\"] == \"odd_x\"]\n",
    "xbet_draw = xbet_draw[[\"match_id\",\"probabilities\"]]\n",
    "xbet_draw = xbet_draw.rename(columns = {\"probabilities\" : \"draw_probs\"})\n",
    "# rename columns in matches dataframe\n",
    "matches = matches.rename(columns = {\"match_hometeam_score\":\"home_score\",\"match_awayteam_score\":\"away_score\"})\n",
    "matches_df_2 = matches[[\"match_id\",\"home_score\",\"away_score\"]]\n",
    "# Merge all 4 dataframes on match id\n",
    "dfs = [xbet_homewin,xbet_awaywin,xbet_draw,matches_df_2]\n",
    "from functools import reduce\n",
    "\n",
    "df_merged = reduce(lambda  left,right: pd.merge(left,right,on=['match_id'],\n",
    "                                            how='outer'), dfs)\n",
    "# drop rows with any na values because if na is from matches dataframe then that game has not been played yet\n",
    "df_merged.dropna(how = \"any\",inplace = True)"
   ]
  },
  {
   "cell_type": "markdown",
   "metadata": {},
   "source": [
    "3. Calculate P(Home)-P(Away) probabilities and add this as a column"
   ]
  },
  {
   "cell_type": "code",
   "execution_count": 538,
   "metadata": {},
   "outputs": [],
   "source": [
    "# Add a new column phome-paway\n",
    "df_merged[\"phome-paway\"] = df_merged[\"homewin_probs\"] - df_merged[\"awaywin_probs\"]\n",
    "# Add a new column that shows if a game ended as draw\n",
    "df_merged[\"difference\"] = df_merged[\"home_score\"] - df_merged[\"away_score\"]\n",
    "df_merged[\"draw\"] = df_merged[\"difference\"].apply(lambda row: 1 if row == 0.0 else 0)\n"
   ]
  },
  {
   "cell_type": "markdown",
   "metadata": {},
   "source": [
    "**discretize P(home win) – P(away win) values into bins (i.e. (-1,-0.8], (-\n",
    "0.8, -0.6], …, (0.8,1]) and calculate the number of games ended as “Draw” in the corresponding\n",
    "bin**"
   ]
  },
  {
   "cell_type": "code",
   "execution_count": 539,
   "metadata": {},
   "outputs": [],
   "source": [
    "bins = [-1,-0.8,-0.6,-0.4,-0.2,0,0.2,0.4,0.6,0.8,1]\n",
    "labels = [1,2,3,4,5,6,7,8,9,10]\n",
    "df_merged['binned'] = pd.cut(df_merged['phome-paway'], bins = bins, labels = labels)\n",
    "s = pd.cut(df_merged['phome-paway'], bins=bins).value_counts()"
   ]
  },
  {
   "cell_type": "code",
   "execution_count": 540,
   "metadata": {
    "scrolled": true
   },
   "outputs": [],
   "source": [
    "#Turn binned column of type integer\n",
    "df_merged[\"binned\"] = df_merged[\"binned\"].astype(\"int\")"
   ]
  },
  {
   "cell_type": "markdown",
   "metadata": {},
   "source": [
    "5.Perform calculation of # of draws in each bin over total games in that bin"
   ]
  },
  {
   "cell_type": "code",
   "execution_count": 541,
   "metadata": {},
   "outputs": [],
   "source": [
    "# Calculate probability of actual draws\n",
    "draw_probabilites = df_merged.groupby(\"binned\").apply(lambda row : np.sum(row[\"draw\"])/len(row[\"draw\"]))\n",
    "dp = draw_probabilites.to_dict()\n",
    "df_merged[\"binned_draw\"] = df_merged[\"binned\"].map(dp)"
   ]
  },
  {
   "cell_type": "code",
   "execution_count": 542,
   "metadata": {},
   "outputs": [
    {
     "data": {
      "text/html": [
       "<div>\n",
       "<style scoped>\n",
       "    .dataframe tbody tr th:only-of-type {\n",
       "        vertical-align: middle;\n",
       "    }\n",
       "\n",
       "    .dataframe tbody tr th {\n",
       "        vertical-align: top;\n",
       "    }\n",
       "\n",
       "    .dataframe thead th {\n",
       "        text-align: right;\n",
       "    }\n",
       "</style>\n",
       "<table border=\"1\" class=\"dataframe\">\n",
       "  <thead>\n",
       "    <tr style=\"text-align: right;\">\n",
       "      <th></th>\n",
       "      <th>match_id</th>\n",
       "      <th>homewin_probs</th>\n",
       "      <th>awaywin_probs</th>\n",
       "      <th>draw_probs</th>\n",
       "      <th>home_score</th>\n",
       "      <th>away_score</th>\n",
       "      <th>phome-paway</th>\n",
       "      <th>difference</th>\n",
       "      <th>draw</th>\n",
       "      <th>binned</th>\n",
       "      <th>binned_draw</th>\n",
       "    </tr>\n",
       "  </thead>\n",
       "  <tbody>\n",
       "    <tr>\n",
       "      <th>1</th>\n",
       "      <td>150842</td>\n",
       "      <td>0.724638</td>\n",
       "      <td>0.113636</td>\n",
       "      <td>0.203252</td>\n",
       "      <td>0.0</td>\n",
       "      <td>0.0</td>\n",
       "      <td>0.611001</td>\n",
       "      <td>0.0</td>\n",
       "      <td>1</td>\n",
       "      <td>9</td>\n",
       "      <td>0.184211</td>\n",
       "    </tr>\n",
       "    <tr>\n",
       "      <th>2</th>\n",
       "      <td>150843</td>\n",
       "      <td>0.628931</td>\n",
       "      <td>0.176991</td>\n",
       "      <td>0.234742</td>\n",
       "      <td>1.0</td>\n",
       "      <td>1.0</td>\n",
       "      <td>0.451940</td>\n",
       "      <td>0.0</td>\n",
       "      <td>1</td>\n",
       "      <td>8</td>\n",
       "      <td>0.205882</td>\n",
       "    </tr>\n",
       "    <tr>\n",
       "      <th>3</th>\n",
       "      <td>150844</td>\n",
       "      <td>0.746269</td>\n",
       "      <td>0.113636</td>\n",
       "      <td>0.185185</td>\n",
       "      <td>3.0</td>\n",
       "      <td>1.0</td>\n",
       "      <td>0.632632</td>\n",
       "      <td>2.0</td>\n",
       "      <td>0</td>\n",
       "      <td>9</td>\n",
       "      <td>0.184211</td>\n",
       "    </tr>\n",
       "    <tr>\n",
       "      <th>26</th>\n",
       "      <td>154513</td>\n",
       "      <td>0.323625</td>\n",
       "      <td>0.392157</td>\n",
       "      <td>0.304878</td>\n",
       "      <td>1.0</td>\n",
       "      <td>1.0</td>\n",
       "      <td>-0.068532</td>\n",
       "      <td>0.0</td>\n",
       "      <td>1</td>\n",
       "      <td>5</td>\n",
       "      <td>0.256410</td>\n",
       "    </tr>\n",
       "    <tr>\n",
       "      <th>27</th>\n",
       "      <td>154516</td>\n",
       "      <td>0.704225</td>\n",
       "      <td>0.114943</td>\n",
       "      <td>0.200000</td>\n",
       "      <td>0.0</td>\n",
       "      <td>0.0</td>\n",
       "      <td>0.589283</td>\n",
       "      <td>0.0</td>\n",
       "      <td>1</td>\n",
       "      <td>8</td>\n",
       "      <td>0.205882</td>\n",
       "    </tr>\n",
       "  </tbody>\n",
       "</table>\n",
       "</div>"
      ],
      "text/plain": [
       "    match_id  homewin_probs  awaywin_probs  draw_probs  home_score  \\\n",
       "1     150842       0.724638       0.113636    0.203252         0.0   \n",
       "2     150843       0.628931       0.176991    0.234742         1.0   \n",
       "3     150844       0.746269       0.113636    0.185185         3.0   \n",
       "26    154513       0.323625       0.392157    0.304878         1.0   \n",
       "27    154516       0.704225       0.114943    0.200000         0.0   \n",
       "\n",
       "    away_score  phome-paway  difference  draw  binned  binned_draw  \n",
       "1          0.0     0.611001         0.0     1       9     0.184211  \n",
       "2          1.0     0.451940         0.0     1       8     0.205882  \n",
       "3          1.0     0.632632         2.0     0       9     0.184211  \n",
       "26         1.0    -0.068532         0.0     1       5     0.256410  \n",
       "27         0.0     0.589283         0.0     1       8     0.205882  "
      ]
     },
     "execution_count": 542,
     "metadata": {},
     "output_type": "execute_result"
    }
   ],
   "source": [
    "# Finally check how our dataframe looks\n",
    "df_merged.head()"
   ]
  },
  {
   "cell_type": "code",
   "execution_count": 543,
   "metadata": {
    "scrolled": true
   },
   "outputs": [
    {
     "data": {
      "text/plain": [
       "Text(0, 0.5, 'P(tie)')"
      ]
     },
     "execution_count": 543,
     "metadata": {},
     "output_type": "execute_result"
    },
    {
     "data": {
      "image/png": "[encoded data removed]",
      "text/plain": [
       "<Figure size 432x288 with 1 Axes>"
      ]
     },
     "metadata": {},
     "output_type": "display_data"
    }
   ],
   "source": [
    "x = df_merged[\"phome-paway\"]\n",
    "y = df_merged[\"draw_probs\"]\n",
    "z = df_merged[\"binned_draw\"]\n",
    "\n",
    "\n",
    "# Use seaborn regplot to plot P(Home-Away) on x axis and P(tie) on y axis\n",
    "sns.regplot(x = x,y = y,data = df_merged, order = 2, units = df_merged[\"binned\"],scatter = True,truncate = True)\n",
    "# Plot calculated draw values on top\n",
    "plt.scatter(x,df_merged[\"binned_draw\"],alpha=0.9, marker = \"*\",c = \"red\")\n",
    "\n",
    "\n",
    "plt.title('1xbet')\n",
    "plt.xlabel('P(home)−P(away)')\n",
    "plt.ylabel('P(tie)')"
   ]
  },
  {
   "cell_type": "markdown",
   "metadata": {},
   "source": [
    "_Repeating the same steps for the other 3 bookmakers as 1xBet_"
   ]
  },
  {
   "cell_type": "markdown",
   "metadata": {},
   "source": [
    "**18bet**"
   ]
  },
  {
   "cell_type": "code",
   "execution_count": 544,
   "metadata": {},
   "outputs": [],
   "source": [
    "# 18bet\n",
    "# Dataframe for home win\n",
    "eightbet_homewin = eightbet_modified[eightbet_modified[\"variable\"] == \"odd_1\"]\n",
    "eightbet_homewin = eightbet_homewin[[\"match_id\",\"probabilities\"]]\n",
    "eightbet_homewin = eightbet_homewin.rename(columns = {\"probabilities\" : \"homewin_probs\"})\n",
    "# Dataframe for away win\n",
    "eightbet_awaywin = eightbet_modified[eightbet_modified[\"variable\"] == \"odd_2\"]\n",
    "eightbet_awaywin = eightbet_awaywin[[\"match_id\",\"probabilities\"]]\n",
    "eightbet_awaywin = eightbet_awaywin.rename(columns = {\"probabilities\" : \"awaywin_probs\"})\n",
    "# Dataframe for draw\n",
    "eightbet_draw = eightbet_modified[eightbet_modified[\"variable\"] == \"odd_x\"]\n",
    "eightbet_draw = eightbet_draw[[\"match_id\",\"probabilities\"]]\n",
    "eightbet_draw = eightbet_draw.rename(columns = {\"probabilities\" : \"draw_probs\"})\n",
    "# rename columns in matches dataframe\n",
    "matches = matches.rename(columns = {\"match_hometeam_score\":\"home_score\",\"match_awayteam_score\":\"away_score\"})\n",
    "matches_df_2 = matches[[\"match_id\",\"home_score\",\"away_score\"]]\n",
    "# Merge all 4 dataframes on match id\n",
    "dfs = [eightbet_homewin,eightbet_awaywin,eightbet_draw,matches_df_2]\n",
    "from functools import reduce\n",
    "\n",
    "df_merged = reduce(lambda  left,right: pd.merge(left,right,on=['match_id'],\n",
    "                                            how='outer'), dfs)\n",
    "# drop rows with any na values because if na is from matches dataframe then that game has not been played yet\n",
    "df_merged.dropna(how = \"any\",inplace = True)"
   ]
  },
  {
   "cell_type": "code",
   "execution_count": 545,
   "metadata": {},
   "outputs": [],
   "source": [
    "# Add a new column phome-paway\n",
    "df_merged[\"phome-paway\"] = df_merged[\"homewin_probs\"] - df_merged[\"awaywin_probs\"]\n",
    "# Add a new column that shows if a game ended as draw\n",
    "df_merged[\"difference\"] = df_merged[\"home_score\"] - df_merged[\"away_score\"]\n",
    "df_merged[\"draw\"] = df_merged[\"difference\"].apply(lambda row: 1 if row == 0.0 else 0)\n"
   ]
  },
  {
   "cell_type": "markdown",
   "metadata": {},
   "source": [
    "**discretize P(home win) – P(away win) values into bins (i.e. (-1,-0.8], (-\n",
    "0.8, -0.6], …, (0.8,1]) and calculate the number of games ended as “Draw” in the corresponding\n",
    "bin**"
   ]
  },
  {
   "cell_type": "code",
   "execution_count": 546,
   "metadata": {},
   "outputs": [],
   "source": [
    "bins = [-1,-0.8,-0.6,-0.4,-0.2,0,0.2,0.4,0.6,0.8,1]\n",
    "labels = [1,2,3,4,5,6,7,8,9,10]\n",
    "df_merged['binned'] = pd.cut(df_merged['phome-paway'], bins = bins, labels = labels)\n",
    "s = pd.cut(df_merged['phome-paway'], bins=bins).value_counts()"
   ]
  },
  {
   "cell_type": "code",
   "execution_count": 547,
   "metadata": {
    "scrolled": true
   },
   "outputs": [],
   "source": [
    "#Turn binned column of type integer\n",
    "df_merged[\"binned\"] = df_merged[\"binned\"].astype(\"int\")"
   ]
  },
  {
   "cell_type": "code",
   "execution_count": 548,
   "metadata": {},
   "outputs": [],
   "source": [
    "# Calculate probability of actual draws\n",
    "draw_probabilites = df_merged.groupby(\"binned\").apply(lambda row : np.sum(row[\"draw\"])/len(row[\"draw\"]))\n",
    "dp = draw_probabilites.to_dict()\n",
    "df_merged[\"binned_draw\"] = df_merged[\"binned\"].map(dp)"
   ]
  },
  {
   "cell_type": "code",
   "execution_count": 549,
   "metadata": {},
   "outputs": [
    {
     "data": {
      "text/html": [
       "<div>\n",
       "<style scoped>\n",
       "    .dataframe tbody tr th:only-of-type {\n",
       "        vertical-align: middle;\n",
       "    }\n",
       "\n",
       "    .dataframe tbody tr th {\n",
       "        vertical-align: top;\n",
       "    }\n",
       "\n",
       "    .dataframe thead th {\n",
       "        text-align: right;\n",
       "    }\n",
       "</style>\n",
       "<table border=\"1\" class=\"dataframe\">\n",
       "  <thead>\n",
       "    <tr style=\"text-align: right;\">\n",
       "      <th></th>\n",
       "      <th>match_id</th>\n",
       "      <th>homewin_probs</th>\n",
       "      <th>awaywin_probs</th>\n",
       "      <th>draw_probs</th>\n",
       "      <th>home_score</th>\n",
       "      <th>away_score</th>\n",
       "      <th>phome-paway</th>\n",
       "      <th>difference</th>\n",
       "      <th>draw</th>\n",
       "      <th>binned</th>\n",
       "      <th>binned_draw</th>\n",
       "    </tr>\n",
       "  </thead>\n",
       "  <tbody>\n",
       "    <tr>\n",
       "      <th>1</th>\n",
       "      <td>150842</td>\n",
       "      <td>0.714286</td>\n",
       "      <td>0.117647</td>\n",
       "      <td>0.200000</td>\n",
       "      <td>0.0</td>\n",
       "      <td>0.0</td>\n",
       "      <td>0.596639</td>\n",
       "      <td>0.0</td>\n",
       "      <td>1</td>\n",
       "      <td>8</td>\n",
       "      <td>0.176471</td>\n",
       "    </tr>\n",
       "    <tr>\n",
       "      <th>2</th>\n",
       "      <td>150843</td>\n",
       "      <td>0.613497</td>\n",
       "      <td>0.181818</td>\n",
       "      <td>0.238095</td>\n",
       "      <td>1.0</td>\n",
       "      <td>1.0</td>\n",
       "      <td>0.431679</td>\n",
       "      <td>0.0</td>\n",
       "      <td>1</td>\n",
       "      <td>8</td>\n",
       "      <td>0.176471</td>\n",
       "    </tr>\n",
       "    <tr>\n",
       "      <th>3</th>\n",
       "      <td>150844</td>\n",
       "      <td>0.740741</td>\n",
       "      <td>0.111111</td>\n",
       "      <td>0.190476</td>\n",
       "      <td>3.0</td>\n",
       "      <td>1.0</td>\n",
       "      <td>0.629630</td>\n",
       "      <td>2.0</td>\n",
       "      <td>0</td>\n",
       "      <td>9</td>\n",
       "      <td>0.189189</td>\n",
       "    </tr>\n",
       "    <tr>\n",
       "      <th>26</th>\n",
       "      <td>154513</td>\n",
       "      <td>0.333333</td>\n",
       "      <td>0.392157</td>\n",
       "      <td>0.312500</td>\n",
       "      <td>1.0</td>\n",
       "      <td>1.0</td>\n",
       "      <td>-0.058824</td>\n",
       "      <td>0.0</td>\n",
       "      <td>1</td>\n",
       "      <td>5</td>\n",
       "      <td>0.268293</td>\n",
       "    </tr>\n",
       "    <tr>\n",
       "      <th>27</th>\n",
       "      <td>154516</td>\n",
       "      <td>0.714286</td>\n",
       "      <td>0.121212</td>\n",
       "      <td>0.204082</td>\n",
       "      <td>0.0</td>\n",
       "      <td>0.0</td>\n",
       "      <td>0.593074</td>\n",
       "      <td>0.0</td>\n",
       "      <td>1</td>\n",
       "      <td>8</td>\n",
       "      <td>0.176471</td>\n",
       "    </tr>\n",
       "  </tbody>\n",
       "</table>\n",
       "</div>"
      ],
      "text/plain": [
       "    match_id  homewin_probs  awaywin_probs  draw_probs  home_score  \\\n",
       "1     150842       0.714286       0.117647    0.200000         0.0   \n",
       "2     150843       0.613497       0.181818    0.238095         1.0   \n",
       "3     150844       0.740741       0.111111    0.190476         3.0   \n",
       "26    154513       0.333333       0.392157    0.312500         1.0   \n",
       "27    154516       0.714286       0.121212    0.204082         0.0   \n",
       "\n",
       "    away_score  phome-paway  difference  draw  binned  binned_draw  \n",
       "1          0.0     0.596639         0.0     1       8     0.176471  \n",
       "2          1.0     0.431679         0.0     1       8     0.176471  \n",
       "3          1.0     0.629630         2.0     0       9     0.189189  \n",
       "26         1.0    -0.058824         0.0     1       5     0.268293  \n",
       "27         0.0     0.593074         0.0     1       8     0.176471  "
      ]
     },
     "execution_count": 549,
     "metadata": {},
     "output_type": "execute_result"
    }
   ],
   "source": [
    "df_merged.head()"
   ]
  },
  {
   "cell_type": "code",
   "execution_count": 550,
   "metadata": {},
   "outputs": [
    {
     "data": {
      "text/plain": [
       "Text(0, 0.5, 'P(tie)')"
      ]
     },
     "execution_count": 550,
     "metadata": {},
     "output_type": "execute_result"
    },
    {
     "data": {
      "image/png": "[encoded data removed]",
      "text/plain": [
       "<Figure size 432x288 with 1 Axes>"
      ]
     },
     "metadata": {},
     "output_type": "display_data"
    }
   ],
   "source": [
    "x = df_merged[\"phome-paway\"]\n",
    "y = df_merged[\"draw_probs\"]\n",
    "z = df_merged[\"binned_draw\"]\n",
    "\n",
    "\n",
    "# Use seaborn regplot to plot P(Home-Away) on x axis and P(tie) on y axis\n",
    "sns.regplot(x = x,y = y,data = df_merged, order = 2, units = df_merged[\"binned\"],scatter = True,truncate = True)\n",
    "# Plot calculated draw values on top\n",
    "plt.scatter(x,df_merged[\"binned_draw\"],alpha=0.9, marker = \"*\",c = \"red\")\n",
    "\n",
    "\n",
    "plt.title('18bet')\n",
    "plt.xlabel('P(home)−P(away)')\n",
    "plt.ylabel('P(tie)')"
   ]
  },
  {
   "cell_type": "markdown",
   "metadata": {},
   "source": [
    "**bet365**"
   ]
  },
  {
   "cell_type": "code",
   "execution_count": 551,
   "metadata": {},
   "outputs": [],
   "source": [
    "# bet365\n",
    "# Dataframe for home win\n",
    "bet365_homewin = bet365_modified[bet365_modified[\"variable\"] == \"odd_1\"]\n",
    "bet365_homewin = bet365_homewin[[\"match_id\",\"probabilities\"]]\n",
    "bet365_homewin = bet365_homewin.rename(columns = {\"probabilities\" : \"homewin_probs\"})\n",
    "# Dataframe for away win\n",
    "bet365_awaywin = bet365_modified[bet365_modified[\"variable\"] == \"odd_2\"]\n",
    "bet365_awaywin = bet365_awaywin[[\"match_id\",\"probabilities\"]]\n",
    "bet365_awaywin = bet365_awaywin.rename(columns = {\"probabilities\" : \"awaywin_probs\"})\n",
    "# Dataframe for draw\n",
    "bet365_draw = bet365_modified[bet365_modified[\"variable\"] == \"odd_x\"]\n",
    "bet365_draw = bet365_draw[[\"match_id\",\"probabilities\"]]\n",
    "bet365_draw = bet365_draw.rename(columns = {\"probabilities\" : \"draw_probs\"})\n",
    "# rename columns in matches dataframe\n",
    "matches = matches.rename(columns = {\"match_hometeam_score\":\"home_score\",\"match_awayteam_score\":\"away_score\"})\n",
    "matches_df_2 = matches[[\"match_id\",\"home_score\",\"away_score\"]]\n",
    "# Merge all 4 dataframes on match id\n",
    "dfs = [bet365_homewin,bet365_awaywin,bet365_draw,matches_df_2]\n",
    "from functools import reduce\n",
    "\n",
    "df_merged = reduce(lambda  left,right: pd.merge(left,right,on=['match_id'],\n",
    "                                            how='outer'), dfs)\n",
    "# drop rows with any na values because if na is from matches dataframe then that game has not been played yet\n",
    "df_merged.dropna(how = \"any\",inplace = True)"
   ]
  },
  {
   "cell_type": "code",
   "execution_count": 552,
   "metadata": {},
   "outputs": [],
   "source": [
    "# Add a new column phome-paway\n",
    "df_merged[\"phome-paway\"] = df_merged[\"homewin_probs\"] - df_merged[\"awaywin_probs\"]\n",
    "# Add a new column that shows if a game ended as draw\n",
    "df_merged[\"difference\"] = df_merged[\"home_score\"] - df_merged[\"away_score\"]\n",
    "df_merged[\"draw\"] = df_merged[\"difference\"].apply(lambda row: 1 if row == 0.0 else 0)\n"
   ]
  },
  {
   "cell_type": "markdown",
   "metadata": {},
   "source": [
    "**discretize P(home win) – P(away win) values into bins (i.e. (-1,-0.8], (-\n",
    "0.8, -0.6], …, (0.8,1]) and calculate the number of games ended as “Draw” in the corresponding\n",
    "bin**"
   ]
  },
  {
   "cell_type": "code",
   "execution_count": 553,
   "metadata": {},
   "outputs": [],
   "source": [
    "bins = [-1,-0.8,-0.6,-0.4,-0.2,0,0.2,0.4,0.6,0.8,1]\n",
    "labels = [1,2,3,4,5,6,7,8,9,10]\n",
    "df_merged['binned'] = pd.cut(df_merged['phome-paway'], bins = bins, labels = labels)\n",
    "s = pd.cut(df_merged['phome-paway'], bins=bins).value_counts()"
   ]
  },
  {
   "cell_type": "code",
   "execution_count": 554,
   "metadata": {
    "scrolled": true
   },
   "outputs": [],
   "source": [
    "#Turn binned column of type integer\n",
    "df_merged[\"binned\"] = df_merged[\"binned\"].astype(\"int\")"
   ]
  },
  {
   "cell_type": "code",
   "execution_count": 555,
   "metadata": {},
   "outputs": [],
   "source": [
    "# Calculate probability of actual draws\n",
    "draw_probabilites = df_merged.groupby(\"binned\").apply(lambda row : np.sum(row[\"draw\"])/len(row[\"draw\"]))\n",
    "dp = draw_probabilites.to_dict()\n",
    "df_merged[\"binned_draw\"] = df_merged[\"binned\"].map(dp)"
   ]
  },
  {
   "cell_type": "code",
   "execution_count": 556,
   "metadata": {},
   "outputs": [
    {
     "data": {
      "text/html": [
       "<div>\n",
       "<style scoped>\n",
       "    .dataframe tbody tr th:only-of-type {\n",
       "        vertical-align: middle;\n",
       "    }\n",
       "\n",
       "    .dataframe tbody tr th {\n",
       "        vertical-align: top;\n",
       "    }\n",
       "\n",
       "    .dataframe thead th {\n",
       "        text-align: right;\n",
       "    }\n",
       "</style>\n",
       "<table border=\"1\" class=\"dataframe\">\n",
       "  <thead>\n",
       "    <tr style=\"text-align: right;\">\n",
       "      <th></th>\n",
       "      <th>match_id</th>\n",
       "      <th>homewin_probs</th>\n",
       "      <th>awaywin_probs</th>\n",
       "      <th>draw_probs</th>\n",
       "      <th>home_score</th>\n",
       "      <th>away_score</th>\n",
       "      <th>phome-paway</th>\n",
       "      <th>difference</th>\n",
       "      <th>draw</th>\n",
       "      <th>binned</th>\n",
       "      <th>binned_draw</th>\n",
       "    </tr>\n",
       "  </thead>\n",
       "  <tbody>\n",
       "    <tr>\n",
       "      <th>1</th>\n",
       "      <td>150842</td>\n",
       "      <td>0.714286</td>\n",
       "      <td>0.111111</td>\n",
       "      <td>0.200000</td>\n",
       "      <td>0.0</td>\n",
       "      <td>0.0</td>\n",
       "      <td>0.603175</td>\n",
       "      <td>0.0</td>\n",
       "      <td>1</td>\n",
       "      <td>9</td>\n",
       "      <td>0.230769</td>\n",
       "    </tr>\n",
       "    <tr>\n",
       "      <th>2</th>\n",
       "      <td>150843</td>\n",
       "      <td>0.621118</td>\n",
       "      <td>0.173913</td>\n",
       "      <td>0.230947</td>\n",
       "      <td>1.0</td>\n",
       "      <td>1.0</td>\n",
       "      <td>0.447205</td>\n",
       "      <td>0.0</td>\n",
       "      <td>1</td>\n",
       "      <td>8</td>\n",
       "      <td>0.137931</td>\n",
       "    </tr>\n",
       "    <tr>\n",
       "      <th>3</th>\n",
       "      <td>150844</td>\n",
       "      <td>0.735294</td>\n",
       "      <td>0.111111</td>\n",
       "      <td>0.181818</td>\n",
       "      <td>3.0</td>\n",
       "      <td>1.0</td>\n",
       "      <td>0.624183</td>\n",
       "      <td>2.0</td>\n",
       "      <td>0</td>\n",
       "      <td>9</td>\n",
       "      <td>0.230769</td>\n",
       "    </tr>\n",
       "    <tr>\n",
       "      <th>26</th>\n",
       "      <td>154513</td>\n",
       "      <td>0.333333</td>\n",
       "      <td>0.421941</td>\n",
       "      <td>0.312500</td>\n",
       "      <td>1.0</td>\n",
       "      <td>1.0</td>\n",
       "      <td>-0.088608</td>\n",
       "      <td>0.0</td>\n",
       "      <td>1</td>\n",
       "      <td>5</td>\n",
       "      <td>0.285714</td>\n",
       "    </tr>\n",
       "    <tr>\n",
       "      <th>27</th>\n",
       "      <td>154516</td>\n",
       "      <td>0.735294</td>\n",
       "      <td>0.133333</td>\n",
       "      <td>0.200000</td>\n",
       "      <td>0.0</td>\n",
       "      <td>0.0</td>\n",
       "      <td>0.601961</td>\n",
       "      <td>0.0</td>\n",
       "      <td>1</td>\n",
       "      <td>9</td>\n",
       "      <td>0.230769</td>\n",
       "    </tr>\n",
       "  </tbody>\n",
       "</table>\n",
       "</div>"
      ],
      "text/plain": [
       "    match_id  homewin_probs  awaywin_probs  draw_probs  home_score  \\\n",
       "1     150842       0.714286       0.111111    0.200000         0.0   \n",
       "2     150843       0.621118       0.173913    0.230947         1.0   \n",
       "3     150844       0.735294       0.111111    0.181818         3.0   \n",
       "26    154513       0.333333       0.421941    0.312500         1.0   \n",
       "27    154516       0.735294       0.133333    0.200000         0.0   \n",
       "\n",
       "    away_score  phome-paway  difference  draw  binned  binned_draw  \n",
       "1          0.0     0.603175         0.0     1       9     0.230769  \n",
       "2          1.0     0.447205         0.0     1       8     0.137931  \n",
       "3          1.0     0.624183         2.0     0       9     0.230769  \n",
       "26         1.0    -0.088608         0.0     1       5     0.285714  \n",
       "27         0.0     0.601961         0.0     1       9     0.230769  "
      ]
     },
     "execution_count": 556,
     "metadata": {},
     "output_type": "execute_result"
    }
   ],
   "source": [
    "df_merged.head()"
   ]
  },
  {
   "cell_type": "code",
   "execution_count": 557,
   "metadata": {},
   "outputs": [
    {
     "data": {
      "text/plain": [
       "Text(0, 0.5, 'P(tie)')"
      ]
     },
     "execution_count": 557,
     "metadata": {},
     "output_type": "execute_result"
    },
    {
     "data": {
      "image/png": "[encoded data removed]",
      "text/plain": [
       "<Figure size 432x288 with 1 Axes>"
      ]
     },
     "metadata": {},
     "output_type": "display_data"
    }
   ],
   "source": [
    "x = df_merged[\"phome-paway\"]\n",
    "y = df_merged[\"draw_probs\"]\n",
    "z = df_merged[\"binned_draw\"]\n",
    "\n",
    "\n",
    "# Use seaborn regplot to plot P(Home-Away) on x axis and P(tie) on y axis\n",
    "sns.regplot(x = x,y = y,data = df_merged, order = 2, units = df_merged[\"binned\"],scatter = True,truncate = True)\n",
    "# Plot calculated draw values on top\n",
    "plt.scatter(x,df_merged[\"binned_draw\"],alpha=0.9, marker = \"*\",c = \"red\")\n",
    "\n",
    "\n",
    "plt.title('bet365')\n",
    "plt.xlabel('P(home)−P(away)')\n",
    "plt.ylabel('P(tie)')"
   ]
  },
  {
   "cell_type": "markdown",
   "metadata": {},
   "source": [
    "**Chance.cz**"
   ]
  },
  {
   "cell_type": "code",
   "execution_count": 558,
   "metadata": {},
   "outputs": [],
   "source": [
    "# Chance.cz\n",
    "# Dataframe for home win\n",
    "chance_homewin = chance_modified[chance_modified[\"variable\"] == \"odd_1\"]\n",
    "chance_homewin = chance_homewin[[\"match_id\",\"probabilities\"]]\n",
    "chance_homewin = chance_homewin.rename(columns = {\"probabilities\" : \"homewin_probs\"})\n",
    "# Dataframe for away win\n",
    "chance_awaywin = chance_modified[chance_modified[\"variable\"] == \"odd_2\"]\n",
    "chance_awaywin = chance_awaywin[[\"match_id\",\"probabilities\"]]\n",
    "chance_awaywin = chance_awaywin.rename(columns = {\"probabilities\" : \"awaywin_probs\"})\n",
    "# Dataframe for draw\n",
    "chance_draw = chance_modified[chance_modified[\"variable\"] == \"odd_x\"]\n",
    "chance_draw = chance_draw[[\"match_id\",\"probabilities\"]]\n",
    "chance_draw = chance_draw.rename(columns = {\"probabilities\" : \"draw_probs\"})\n",
    "# rename columns in matches dataframe\n",
    "matches = matches.rename(columns = {\"match_hometeam_score\":\"home_score\",\"match_awayteam_score\":\"away_score\"})\n",
    "matches_df_2 = matches[[\"match_id\",\"home_score\",\"away_score\"]]\n",
    "# Merge all 4 dataframes on match id\n",
    "dfs = [chance_homewin,chance_awaywin,chance_draw,matches_df_2]\n",
    "from functools import reduce\n",
    "\n",
    "df_merged = reduce(lambda  left,right: pd.merge(left,right,on=['match_id'],\n",
    "                                            how='outer'), dfs)\n",
    "# drop rows with any na values because if na is from matches dataframe then that game has not been played yet\n",
    "df_merged.dropna(how = \"any\",inplace = True)"
   ]
  },
  {
   "cell_type": "code",
   "execution_count": 559,
   "metadata": {},
   "outputs": [],
   "source": [
    "# Add a new column phome-paway\n",
    "df_merged[\"phome-paway\"] = df_merged[\"homewin_probs\"] - df_merged[\"awaywin_probs\"]\n",
    "# Add a new column that shows if a game ended as draw\n",
    "df_merged[\"difference\"] = df_merged[\"home_score\"] - df_merged[\"away_score\"]\n",
    "df_merged[\"draw\"] = df_merged[\"difference\"].apply(lambda row: 1 if row == 0.0 else 0)\n"
   ]
  },
  {
   "cell_type": "markdown",
   "metadata": {},
   "source": [
    "**discretize P(home win) – P(away win) values into bins (i.e. (-1,-0.8], (-\n",
    "0.8, -0.6], …, (0.8,1]) and calculate the number of games ended as “Draw” in the corresponding\n",
    "bin**"
   ]
  },
  {
   "cell_type": "code",
   "execution_count": 560,
   "metadata": {},
   "outputs": [],
   "source": [
    "bins = [-1,-0.8,-0.6,-0.4,-0.2,0,0.2,0.4,0.6,0.8,1]\n",
    "labels = [1,2,3,4,5,6,7,8,9,10]\n",
    "df_merged['binned'] = pd.cut(df_merged['phome-paway'], bins = bins, labels = labels)\n",
    "s = pd.cut(df_merged['phome-paway'], bins=bins).value_counts()"
   ]
  },
  {
   "cell_type": "code",
   "execution_count": 561,
   "metadata": {
    "scrolled": true
   },
   "outputs": [],
   "source": [
    "#Turn binned column of type integer\n",
    "df_merged[\"binned\"] = df_merged[\"binned\"].astype(\"int\")"
   ]
  },
  {
   "cell_type": "code",
   "execution_count": 562,
   "metadata": {},
   "outputs": [],
   "source": [
    "# Calculate probability of actual draws\n",
    "draw_probabilites = df_merged.groupby(\"binned\").apply(lambda row : np.sum(row[\"draw\"])/len(row[\"draw\"]))\n",
    "dp = draw_probabilites.to_dict()\n",
    "df_merged[\"binned_draw\"] = df_merged[\"binned\"].map(dp)"
   ]
  },
  {
   "cell_type": "code",
   "execution_count": 563,
   "metadata": {},
   "outputs": [
    {
     "data": {
      "text/html": [
       "<div>\n",
       "<style scoped>\n",
       "    .dataframe tbody tr th:only-of-type {\n",
       "        vertical-align: middle;\n",
       "    }\n",
       "\n",
       "    .dataframe tbody tr th {\n",
       "        vertical-align: top;\n",
       "    }\n",
       "\n",
       "    .dataframe thead th {\n",
       "        text-align: right;\n",
       "    }\n",
       "</style>\n",
       "<table border=\"1\" class=\"dataframe\">\n",
       "  <thead>\n",
       "    <tr style=\"text-align: right;\">\n",
       "      <th></th>\n",
       "      <th>match_id</th>\n",
       "      <th>homewin_probs</th>\n",
       "      <th>awaywin_probs</th>\n",
       "      <th>draw_probs</th>\n",
       "      <th>home_score</th>\n",
       "      <th>away_score</th>\n",
       "      <th>phome-paway</th>\n",
       "      <th>difference</th>\n",
       "      <th>draw</th>\n",
       "      <th>binned</th>\n",
       "      <th>binned_draw</th>\n",
       "    </tr>\n",
       "  </thead>\n",
       "  <tbody>\n",
       "    <tr>\n",
       "      <th>1</th>\n",
       "      <td>150842</td>\n",
       "      <td>0.719424</td>\n",
       "      <td>0.114025</td>\n",
       "      <td>0.194932</td>\n",
       "      <td>0.0</td>\n",
       "      <td>0.0</td>\n",
       "      <td>0.605399</td>\n",
       "      <td>0.0</td>\n",
       "      <td>1</td>\n",
       "      <td>9</td>\n",
       "      <td>0.222222</td>\n",
       "    </tr>\n",
       "    <tr>\n",
       "      <th>2</th>\n",
       "      <td>150843</td>\n",
       "      <td>0.609756</td>\n",
       "      <td>0.174825</td>\n",
       "      <td>0.243309</td>\n",
       "      <td>1.0</td>\n",
       "      <td>1.0</td>\n",
       "      <td>0.434931</td>\n",
       "      <td>0.0</td>\n",
       "      <td>1</td>\n",
       "      <td>8</td>\n",
       "      <td>0.147059</td>\n",
       "    </tr>\n",
       "    <tr>\n",
       "      <th>3</th>\n",
       "      <td>150844</td>\n",
       "      <td>0.740741</td>\n",
       "      <td>0.112108</td>\n",
       "      <td>0.178253</td>\n",
       "      <td>3.0</td>\n",
       "      <td>1.0</td>\n",
       "      <td>0.628633</td>\n",
       "      <td>2.0</td>\n",
       "      <td>0</td>\n",
       "      <td>9</td>\n",
       "      <td>0.222222</td>\n",
       "    </tr>\n",
       "    <tr>\n",
       "      <th>26</th>\n",
       "      <td>154513</td>\n",
       "      <td>0.331126</td>\n",
       "      <td>0.401606</td>\n",
       "      <td>0.310559</td>\n",
       "      <td>1.0</td>\n",
       "      <td>1.0</td>\n",
       "      <td>-0.070481</td>\n",
       "      <td>0.0</td>\n",
       "      <td>1</td>\n",
       "      <td>5</td>\n",
       "      <td>0.261905</td>\n",
       "    </tr>\n",
       "    <tr>\n",
       "      <th>27</th>\n",
       "      <td>154516</td>\n",
       "      <td>0.704225</td>\n",
       "      <td>0.125313</td>\n",
       "      <td>0.209205</td>\n",
       "      <td>0.0</td>\n",
       "      <td>0.0</td>\n",
       "      <td>0.578912</td>\n",
       "      <td>0.0</td>\n",
       "      <td>1</td>\n",
       "      <td>8</td>\n",
       "      <td>0.147059</td>\n",
       "    </tr>\n",
       "  </tbody>\n",
       "</table>\n",
       "</div>"
      ],
      "text/plain": [
       "    match_id  homewin_probs  awaywin_probs  draw_probs  home_score  \\\n",
       "1     150842       0.719424       0.114025    0.194932         0.0   \n",
       "2     150843       0.609756       0.174825    0.243309         1.0   \n",
       "3     150844       0.740741       0.112108    0.178253         3.0   \n",
       "26    154513       0.331126       0.401606    0.310559         1.0   \n",
       "27    154516       0.704225       0.125313    0.209205         0.0   \n",
       "\n",
       "    away_score  phome-paway  difference  draw  binned  binned_draw  \n",
       "1          0.0     0.605399         0.0     1       9     0.222222  \n",
       "2          1.0     0.434931         0.0     1       8     0.147059  \n",
       "3          1.0     0.628633         2.0     0       9     0.222222  \n",
       "26         1.0    -0.070481         0.0     1       5     0.261905  \n",
       "27         0.0     0.578912         0.0     1       8     0.147059  "
      ]
     },
     "execution_count": 563,
     "metadata": {},
     "output_type": "execute_result"
    }
   ],
   "source": [
    "df_merged.head()"
   ]
  },
  {
   "cell_type": "code",
   "execution_count": 564,
   "metadata": {},
   "outputs": [
    {
     "data": {
      "text/plain": [
       "Text(0, 0.5, 'P(tie)')"
      ]
     },
     "execution_count": 564,
     "metadata": {},
     "output_type": "execute_result"
    },
    {
     "data": {
      "image/png": "[encoded data removed]",
      "text/plain": [
       "<Figure size 432x288 with 1 Axes>"
      ]
     },
     "metadata": {},
     "output_type": "display_data"
    }
   ],
   "source": [
    "x = df_merged[\"phome-paway\"]\n",
    "y = df_merged[\"draw_probs\"]\n",
    "z = df_merged[\"binned_draw\"]\n",
    "\n",
    "\n",
    "# Use seaborn regplot to plot P(Home-Away) on x axis and P(tie) on y axis\n",
    "sns.regplot(x = x,y = y,data = df_merged, order = 2, units = df_merged[\"binned\"],scatter = True,truncate = True)\n",
    "# Plot calculated draw values on top\n",
    "plt.scatter(x,df_merged[\"binned_draw\"],alpha=0.9, marker = \"*\",c = \"red\")\n",
    "\n",
    "\n",
    "plt.title('Chance.cz')\n",
    "plt.xlabel('P(home)−P(away)')\n",
    "plt.ylabel('P(tie)')"
   ]
  },
  {
   "cell_type": "markdown",
   "metadata": {},
   "source": [
    "**Discussion:**"
   ]
  },
  {
   "cell_type": "markdown",
   "metadata": {},
   "source": [
    "Our assumption was that if the draw probabilities calculated from the sample are larger than the probability proposed by the bookmaker it should be profitable to bet on draw games for that bin. For all 4 bookmakers the peak of the curves (0.00-0.25 interval on x-axis) seems a good interval to bet on since calculated draw probabilities are above the ones set by the bookmakers. Dependant on the bookmaker there are inteval in which the calculated draw probabilities are above the existing ones. However as expected they are  little in number compared to the existing ones. Most calculated probabilities ar below the proposed results. From these findings we can say there is a bias in odds representing the probabilities."
   ]
  },
  {
   "cell_type": "markdown",
   "metadata": {},
   "source": [
    "# Task 3"
   ]
  },
  {
   "cell_type": "markdown",
   "metadata": {},
   "source": [
    "**Remove matches that create noise in the outcomes**"
   ]
  },
  {
   "cell_type": "markdown",
   "metadata": {},
   "source": [
    "1.The home team scores the winning goal after 90th minute"
   ]
  },
  {
   "cell_type": "code",
   "execution_count": 565,
   "metadata": {
    "scrolled": false
   },
   "outputs": [],
   "source": [
    "# Split score column into home score and away score for goals dataframe\n",
    "goals[['home_score','away_score']]  = goals['score'].str.split('-', n = 2 ,expand = True )"
   ]
  },
  {
   "cell_type": "code",
   "execution_count": 566,
   "metadata": {},
   "outputs": [],
   "source": [
    "# Convert type of scores to integer\n",
    "goals[\"home_score\"] = goals[\"home_score\"].astype(int)\n",
    "goals[\"away_score\"] = goals[\"away_score\"].astype(int)"
   ]
  },
  {
   "cell_type": "code",
   "execution_count": 567,
   "metadata": {},
   "outputs": [],
   "source": [
    "# Find rows that have greater time than 90(you can also use pyparser)\n",
    "# We need to convert strings that have + operator inbetween so that we can convert them to integer\n",
    "\n",
    "\n",
    "greater_than_90_modified_dict = {'90+2':\"92\", '90+4':\"94\", '90+1':\"91\", '90+3':\"93\", \n",
    "                            '90+7':\"97\", '90+6':\"96\", '90+5':\"95\", '90+9':\"99\", '90+11':\"101\",\n",
    "                                 '90+8':\"98\",\"45+1\":\"46\",\"45+2\":\"47\",\"45+3\":\"48\",\"45+4\":\"49\",'45+5':\"50\",'45+6':\"51\",\n",
    "                                \"45+14\":\"59\",\"89+7\":\"96\",\"45+8\":\"53\",'90+12':\"102\",'45+13':\"58\",'90+10':\"100\"}\n"
   ]
  },
  {
   "cell_type": "code",
   "execution_count": 568,
   "metadata": {},
   "outputs": [],
   "source": [
    "# Replace keys in greater_than_90_modified_dict with values\n",
    "goals[\"time\"] = goals[\"time\"].replace(greater_than_90_modified_dict)"
   ]
  },
  {
   "cell_type": "code",
   "execution_count": 569,
   "metadata": {},
   "outputs": [],
   "source": [
    "# Convert home score and away score goals to integer\n",
    "\n",
    "goals[\"home_score\"] = goals[\"home_score\"].astype(int)\n",
    "goals[\"away_score\"] = goals[\"away_score\"].astype(int)\n",
    "goals[\"time\"] = goals[\"time\"].astype(int)"
   ]
  },
  {
   "cell_type": "code",
   "execution_count": 570,
   "metadata": {},
   "outputs": [],
   "source": [
    "# Drop columns we don't need\n",
    "goals.drop([\"home_scorer\",\"score\",\"away_scorer\"],axis = 1,inplace = True)"
   ]
  },
  {
   "cell_type": "code",
   "execution_count": 571,
   "metadata": {},
   "outputs": [],
   "source": [
    "# Find games that end in a home win and also lasts more than 90 minutes take the last value in a group\n",
    "endScores = goals.loc[(goals['time'] > 90) & (goals['home_score'] > goals['away_score'])].groupby('match_id').nth(-1)\n",
    "# Find games that end in a away win or a draw and also lasts less than or equal to 90 minutes take the last value in a group\n",
    "beforeScores = goals.loc[(goals['time'] <= 90) & (goals['home_score'] <= goals['away_score'])].groupby('match_id').nth(-1)\n",
    "#Join endScores and beforeScores and find their intersection these are the match ids we want\n",
    "compareGames = beforeScores.join(endScores, rsuffix='_end').dropna().reset_index()"
   ]
  },
  {
   "cell_type": "code",
   "execution_count": 572,
   "metadata": {
    "scrolled": true
   },
   "outputs": [],
   "source": [
    "# Take match_id's so that we can drop them later on\n",
    "MatchestoDropHomewin = compareGames[\"match_id\"].tolist()"
   ]
  },
  {
   "cell_type": "markdown",
   "metadata": {},
   "source": [
    "2.match ends in a draw (tie) because the losing team scores the goal after 90th minute"
   ]
  },
  {
   "cell_type": "code",
   "execution_count": 573,
   "metadata": {},
   "outputs": [],
   "source": [
    "# Find games that end in a away win and also lasts more than 90 minutes take the last value in a group\n",
    "endScores = goals.loc[(goals['time'] > 90) & (goals['away_score'] == goals['home_score'])].groupby('match_id').nth(-1)\n",
    "# Find games that end in a home win or a draw and also lasts less than or equal to 90 minutes take the last value in a group\n",
    "beforeScores = goals.loc[(goals['time'] <= 90) & ((goals['away_score'] < goals['home_score']) | (goals['away_score'] > goals['home_score']))].groupby('match_id').nth(-1)\n",
    "#Join endScores and beforeScores and find their intersection these are the match ids we want\n",
    "compareGames = beforeScores.join(endScores, rsuffix='_end').dropna().reset_index()"
   ]
  },
  {
   "cell_type": "code",
   "execution_count": 574,
   "metadata": {},
   "outputs": [],
   "source": [
    "# Take match_id's so that we can drop them later on\n",
    "MatchestoDropdraw= compareGames[\"match_id\"].tolist()"
   ]
  },
  {
   "cell_type": "markdown",
   "metadata": {},
   "source": [
    "3.match ends in away win because the team scores the goal after 90th minute"
   ]
  },
  {
   "cell_type": "code",
   "execution_count": 575,
   "metadata": {},
   "outputs": [],
   "source": [
    "# Find games that end in a away win and also lasts more than 90 minutes take the last value in a group\n",
    "endScores = goals.loc[(goals['time'] > 90) & (goals['away_score'] > goals['home_score'])].groupby('match_id').nth(-1)\n",
    "# Find games that end in a home win or a draw and also lasts less than or equal to 90 minutes take the last value in a group\n",
    "beforeScores = goals.loc[(goals['time'] <= 90) & (goals['away_score'] <= goals['home_score'])].groupby('match_id').nth(-1)\n",
    "#Join endScores and beforeScores and find their intersection these are the match ids we want\n",
    "compareGames = beforeScores.join(endScores, rsuffix='_end').dropna().reset_index()"
   ]
  },
  {
   "cell_type": "code",
   "execution_count": 576,
   "metadata": {},
   "outputs": [],
   "source": [
    "# Take match_id's so that we can drop them later on\n",
    "MatchestoDropAwaywin = compareGames[\"match_id\"].tolist()"
   ]
  },
  {
   "cell_type": "code",
   "execution_count": 577,
   "metadata": {},
   "outputs": [
    {
     "name": "stdout",
     "output_type": "stream",
     "text": [
      "{194567, 198153, 243211, 162318, 281114, 162845, 147998, 251935, 171046, 143416, 159830, 178783, 216677, 161896, 210560, 193199, 195250, 193203, 278715, 169661, 199870, 224448, 278723, 173765, 224453, 278727, 165578, 278731, 278732, 224466, 167637, 171739, 224477, 224497, 271102, 186624, 155392, 271106, 271104, 186630, 155399, 186634, 271115, 261900, 252686, 195343, 195344, 213265, 186639, 272659, 195349, 183576, 271135, 271144, 206122, 214322, 144692, 209207, 214328, 188734, 261950, 187713, 150851, 176969, 261967, 143184, 187728, 143186, 207187, 194388, 185687, 211331, 211334, 211336, 115600, 154527, 203680, 228773, 196517, 179623, 196523, 196526, 218033, 182205, 228802, 209348, 173510, 228806, 209357, 209358, 159184, 209361, 243161, 159196, 159202, 243172, 228840, 228846, 184816, 184817, 184819, 202231}\n"
     ]
    }
   ],
   "source": [
    "# Combine all 3 lists into 1 complete list\n",
    "MatchestoDropMerged = set(MatchestoDropHomewin + MatchestoDropdraw + MatchestoDropAwaywin)\n",
    "print(MatchestoDropMerged)"
   ]
  },
  {
   "cell_type": "code",
   "execution_count": 578,
   "metadata": {},
   "outputs": [],
   "source": [
    "# Filter out MatchestoDropMerged match ids\n",
    "matches = matches[~matches[\"match_id\"].isin(MatchestoDropMerged)]"
   ]
  },
  {
   "cell_type": "markdown",
   "metadata": {},
   "source": [
    "**Remove red card in the first 15 minutes( Playing with few players is always a disadvantage for the teams)**"
   ]
  },
  {
   "cell_type": "code",
   "execution_count": 579,
   "metadata": {},
   "outputs": [
    {
     "data": {
      "text/html": [
       "<div>\n",
       "<style scoped>\n",
       "    .dataframe tbody tr th:only-of-type {\n",
       "        vertical-align: middle;\n",
       "    }\n",
       "\n",
       "    .dataframe tbody tr th {\n",
       "        vertical-align: top;\n",
       "    }\n",
       "\n",
       "    .dataframe thead th {\n",
       "        text-align: right;\n",
       "    }\n",
       "</style>\n",
       "<table border=\"1\" class=\"dataframe\">\n",
       "  <thead>\n",
       "    <tr style=\"text-align: right;\">\n",
       "      <th></th>\n",
       "      <th>match_id</th>\n",
       "      <th>time</th>\n",
       "      <th>home_fault</th>\n",
       "      <th>card</th>\n",
       "      <th>away_fault</th>\n",
       "    </tr>\n",
       "  </thead>\n",
       "  <tbody>\n",
       "    <tr>\n",
       "      <th>0</th>\n",
       "      <td>139895</td>\n",
       "      <td>17</td>\n",
       "      <td>NaN</td>\n",
       "      <td>yellow card</td>\n",
       "      <td>Harek F.</td>\n",
       "    </tr>\n",
       "    <tr>\n",
       "      <th>1</th>\n",
       "      <td>139895</td>\n",
       "      <td>32</td>\n",
       "      <td>NaN</td>\n",
       "      <td>yellow card</td>\n",
       "      <td>Briancon A.</td>\n",
       "    </tr>\n",
       "    <tr>\n",
       "      <th>2</th>\n",
       "      <td>139895</td>\n",
       "      <td>34</td>\n",
       "      <td>Diop P.</td>\n",
       "      <td>yellow card</td>\n",
       "      <td>NaN</td>\n",
       "    </tr>\n",
       "    <tr>\n",
       "      <th>3</th>\n",
       "      <td>139896</td>\n",
       "      <td>88</td>\n",
       "      <td>NaN</td>\n",
       "      <td>yellow card</td>\n",
       "      <td>Ayhan K.</td>\n",
       "    </tr>\n",
       "    <tr>\n",
       "      <th>4</th>\n",
       "      <td>139896</td>\n",
       "      <td>89</td>\n",
       "      <td>NaN</td>\n",
       "      <td>yellow card</td>\n",
       "      <td>Stoger K.</td>\n",
       "    </tr>\n",
       "  </tbody>\n",
       "</table>\n",
       "</div>"
      ],
      "text/plain": [
       "   match_id time home_fault         card   away_fault\n",
       "0    139895   17        NaN  yellow card     Harek F.\n",
       "1    139895   32        NaN  yellow card  Briancon A.\n",
       "2    139895   34    Diop P.  yellow card          NaN\n",
       "3    139896   88        NaN  yellow card     Ayhan K.\n",
       "4    139896   89        NaN  yellow card    Stoger K."
      ]
     },
     "execution_count": 579,
     "metadata": {},
     "output_type": "execute_result"
    }
   ],
   "source": [
    "# Take a look at the booking dataframe\n",
    "booking.head()"
   ]
  },
  {
   "cell_type": "code",
   "execution_count": 580,
   "metadata": {},
   "outputs": [],
   "source": [
    "# Replace keys in greater_than_90_modified_dict with values\n",
    "booking[\"time\"] = booking[\"time\"].replace(greater_than_90_modified_dict)"
   ]
  },
  {
   "cell_type": "code",
   "execution_count": 581,
   "metadata": {},
   "outputs": [],
   "source": [
    "#Convert time column to type int\n",
    "booking[\"time\"] = booking[\"time\"].astype(int)"
   ]
  },
  {
   "cell_type": "code",
   "execution_count": 582,
   "metadata": {},
   "outputs": [],
   "source": [
    "# Filter match_id's that are with red card in 15 minutes or less and convert match ids into a list\n",
    "RedCardDrop = booking[(booking[\"time\"]<=15) & (booking[\"card\"] ==\"red card\")][\"match_id\"].tolist()"
   ]
  },
  {
   "cell_type": "code",
   "execution_count": 583,
   "metadata": {},
   "outputs": [],
   "source": [
    "# Drop unwanted matches in this case red card in 15 minutes or less\n",
    "matches = matches[~matches[\"match_id\"].isin(RedCardDrop)]"
   ]
  },
  {
   "cell_type": "markdown",
   "metadata": {},
   "source": [
    "**Task 2 3rd and 4th subtasks for Task 3**"
   ]
  },
  {
   "cell_type": "markdown",
   "metadata": {},
   "source": [
    "**1xBet**"
   ]
  },
  {
   "cell_type": "code",
   "execution_count": 584,
   "metadata": {},
   "outputs": [
    {
     "data": {
      "text/plain": [
       "Text(0, 0.5, 'P(tie)')"
      ]
     },
     "execution_count": 584,
     "metadata": {},
     "output_type": "execute_result"
    },
    {
     "data": {
      "image/png": "[encoded data removed]",
      "text/plain": [
       "<Figure size 432x288 with 1 Axes>"
      ]
     },
     "metadata": {},
     "output_type": "display_data"
    }
   ],
   "source": [
    "# 1xBet\n",
    "# Dataframe for home win\n",
    "xbet_homewin = xbet_modified[xbet_modified[\"variable\"] == \"odd_1\"]\n",
    "xbet_homewin = xbet_homewin[[\"match_id\",\"probabilities\"]]\n",
    "xbet_homewin = xbet_homewin.rename(columns = {\"probabilities\" : \"homewin_probs\"})\n",
    "# Dataframe for away win\n",
    "xbet_awaywin = xbet_modified[xbet_modified[\"variable\"] == \"odd_2\"]\n",
    "xbet_awaywin = xbet_awaywin[[\"match_id\",\"probabilities\"]]\n",
    "xbet_awaywin = xbet_awaywin.rename(columns = {\"probabilities\" : \"awaywin_probs\"})\n",
    "# Dataframe for draw\n",
    "xbet_draw = xbet_modified[xbet_modified[\"variable\"] == \"odd_x\"]\n",
    "xbet_draw = xbet_draw[[\"match_id\",\"probabilities\"]]\n",
    "xbet_draw = xbet_draw.rename(columns = {\"probabilities\" : \"draw_probs\"})\n",
    "# rename columns in matches dataframe\n",
    "matches = matches.rename(columns = {\"match_hometeam_score\":\"home_score\",\"match_awayteam_score\":\"away_score\"})\n",
    "matches_df_2 = matches[[\"match_id\",\"home_score\",\"away_score\"]]\n",
    "# Merge all 4 dataframes on match id\n",
    "dfs = [xbet_homewin,xbet_awaywin,xbet_draw,matches_df_2]\n",
    "from functools import reduce\n",
    "\n",
    "df_merged = reduce(lambda  left,right: pd.merge(left,right,on=['match_id'],\n",
    "                                            how='outer'), dfs)\n",
    "# drop rows with any na values because if na is from matches dataframe then that game has not been played yet\n",
    "df_merged.dropna(how = \"any\",inplace = True)\n",
    "\n",
    "# Add a new column phome-paway\n",
    "df_merged[\"phome-paway\"] = df_merged[\"homewin_probs\"] - df_merged[\"awaywin_probs\"]\n",
    "# Add a new column that shows if a game ended as draw\n",
    "df_merged[\"difference\"] = df_merged[\"home_score\"] - df_merged[\"away_score\"]\n",
    "df_merged[\"draw\"] = df_merged[\"difference\"].apply(lambda row: 1 if row == 0.0 else 0)\n",
    "\n",
    "\n",
    "bins = [-1,-0.8,-0.6,-0.4,-0.2,0,0.2,0.4,0.6,0.8,1]\n",
    "labels = [1,2,3,4,5,6,7,8,9,10]\n",
    "df_merged['binned'] = pd.cut(df_merged['phome-paway'], bins = bins, labels = labels)\n",
    "s = pd.cut(df_merged['phome-paway'], bins=bins).value_counts()\n",
    "\n",
    "#Turn binned column of type integer\n",
    "df_merged[\"binned\"] = df_merged[\"binned\"].astype(\"int\")\n",
    "\n",
    "# Calculate probability of actual draws\n",
    "draw_probabilites = df_merged.groupby(\"binned\").apply(lambda row : np.sum(row[\"draw\"])/len(row[\"draw\"]))\n",
    "dp = draw_probabilites.to_dict()\n",
    "df_merged[\"binned_draw\"] = df_merged[\"binned\"].map(dp)\n",
    "\n",
    "x = df_merged[\"phome-paway\"]\n",
    "y = df_merged[\"draw_probs\"]\n",
    "z = df_merged[\"binned_draw\"]\n",
    "\n",
    "\n",
    "# Use seaborn regplot to plot P(Home-Away) on x axis and P(tie) on y axis\n",
    "sns.regplot(x = x,y = y,data = df_merged, order = 2, units = df_merged[\"binned\"],scatter = True,truncate = True)\n",
    "# Plot calculated draw values on top\n",
    "plt.scatter(x,df_merged[\"binned_draw\"],alpha=0.9, marker = \"*\",c = \"red\")\n",
    "\n",
    "\n",
    "plt.title('1xbet')\n",
    "plt.xlabel('P(home)−P(away)')\n",
    "plt.ylabel('P(tie)')\n"
   ]
  },
  {
   "cell_type": "markdown",
   "metadata": {},
   "source": [
    "**18bet**"
   ]
  },
  {
   "cell_type": "code",
   "execution_count": 585,
   "metadata": {},
   "outputs": [
    {
     "data": {
      "text/plain": [
       "Text(0, 0.5, 'P(tie)')"
      ]
     },
     "execution_count": 585,
     "metadata": {},
     "output_type": "execute_result"
    },
    {
     "data": {
      "image/png": "[encoded data removed]",
      "text/plain": [
       "<Figure size 432x288 with 1 Axes>"
      ]
     },
     "metadata": {},
     "output_type": "display_data"
    }
   ],
   "source": [
    "# 18bet\n",
    "# Dataframe for home win\n",
    "eightbet_homewin = eightbet_modified[eightbet_modified[\"variable\"] == \"odd_1\"]\n",
    "eightbet_homewin = eightbet_homewin[[\"match_id\",\"probabilities\"]]\n",
    "eightbet_homewin = eightbet_homewin.rename(columns = {\"probabilities\" : \"homewin_probs\"})\n",
    "# Dataframe for away win\n",
    "eightbet_awaywin = eightbet_modified[eightbet_modified[\"variable\"] == \"odd_2\"]\n",
    "eightbet_awaywin = eightbet_awaywin[[\"match_id\",\"probabilities\"]]\n",
    "eightbet_awaywin = eightbet_awaywin.rename(columns = {\"probabilities\" : \"awaywin_probs\"})\n",
    "# Dataframe for draw\n",
    "eightbet_draw = eightbet_modified[eightbet_modified[\"variable\"] == \"odd_x\"]\n",
    "eightbet_draw = eightbet_draw[[\"match_id\",\"probabilities\"]]\n",
    "eightbet_draw = eightbet_draw.rename(columns = {\"probabilities\" : \"draw_probs\"})\n",
    "# rename columns in matches dataframe\n",
    "matches = matches.rename(columns = {\"match_hometeam_score\":\"home_score\",\"match_awayteam_score\":\"away_score\"})\n",
    "matches_df_2 = matches[[\"match_id\",\"home_score\",\"away_score\"]]\n",
    "# Merge all 4 dataframes on match id\n",
    "dfs = [eightbet_homewin,eightbet_awaywin,eightbet_draw,matches_df_2]\n",
    "from functools import reduce\n",
    "\n",
    "df_merged = reduce(lambda  left,right: pd.merge(left,right,on=['match_id'],\n",
    "                                            how='outer'), dfs)\n",
    "# drop rows with any na values because if na is from matches dataframe then that game has not been played yet\n",
    "df_merged.dropna(how = \"any\",inplace = True)\n",
    "\n",
    "# Add a new column phome-paway\n",
    "df_merged[\"phome-paway\"] = df_merged[\"homewin_probs\"] - df_merged[\"awaywin_probs\"]\n",
    "# Add a new column that shows if a game ended as draw\n",
    "df_merged[\"difference\"] = df_merged[\"home_score\"] - df_merged[\"away_score\"]\n",
    "df_merged[\"draw\"] = df_merged[\"difference\"].apply(lambda row: 1 if row == 0.0 else 0)\n",
    "\n",
    "\n",
    "bins = [-1,-0.8,-0.6,-0.4,-0.2,0,0.2,0.4,0.6,0.8,1]\n",
    "labels = [1,2,3,4,5,6,7,8,9,10]\n",
    "df_merged['binned'] = pd.cut(df_merged['phome-paway'], bins = bins, labels = labels)\n",
    "s = pd.cut(df_merged['phome-paway'], bins=bins).value_counts()\n",
    "\n",
    "#Turn binned column of type integer\n",
    "df_merged[\"binned\"] = df_merged[\"binned\"].astype(\"int\")\n",
    "\n",
    "# Calculate probability of actual draws\n",
    "draw_probabilites = df_merged.groupby(\"binned\").apply(lambda row : np.sum(row[\"draw\"])/len(row[\"draw\"]))\n",
    "dp = draw_probabilites.to_dict()\n",
    "df_merged[\"binned_draw\"] = df_merged[\"binned\"].map(dp)\n",
    "\n",
    "x = df_merged[\"phome-paway\"]\n",
    "y = df_merged[\"draw_probs\"]\n",
    "z = df_merged[\"binned_draw\"]\n",
    "\n",
    "\n",
    "# Use seaborn regplot to plot P(Home-Away) on x axis and P(tie) on y axis\n",
    "sns.regplot(x = x,y = y,data = df_merged, order = 2, units = df_merged[\"binned\"],scatter = True,truncate = True)\n",
    "# Plot calculated draw values on top\n",
    "plt.scatter(x,df_merged[\"binned_draw\"],alpha=0.9, marker = \"*\",c = \"red\")\n",
    "\n",
    "\n",
    "plt.title('18bet')\n",
    "plt.xlabel('P(home)−P(away)')\n",
    "plt.ylabel('P(tie)')\n"
   ]
  },
  {
   "cell_type": "markdown",
   "metadata": {},
   "source": [
    "**bet365**"
   ]
  },
  {
   "cell_type": "code",
   "execution_count": 586,
   "metadata": {},
   "outputs": [
    {
     "data": {
      "text/plain": [
       "Text(0, 0.5, 'P(tie)')"
      ]
     },
     "execution_count": 586,
     "metadata": {},
     "output_type": "execute_result"
    },
    {
     "data": {
      "image/png": "[encoded data removed]",
      "text/plain": [
       "<Figure size 432x288 with 1 Axes>"
      ]
     },
     "metadata": {},
     "output_type": "display_data"
    }
   ],
   "source": [
    "# bet365\n",
    "# Dataframe for home win\n",
    "bet365_homewin = bet365_modified[bet365_modified[\"variable\"] == \"odd_1\"]\n",
    "bet365_homewin = bet365_homewin[[\"match_id\",\"probabilities\"]]\n",
    "bet365_homewin = bet365_homewin.rename(columns = {\"probabilities\" : \"homewin_probs\"})\n",
    "# Dataframe for away win\n",
    "bet365_awaywin = bet365_modified[bet365_modified[\"variable\"] == \"odd_2\"]\n",
    "bet365_awaywin = bet365_awaywin[[\"match_id\",\"probabilities\"]]\n",
    "bet365_awaywin = bet365_awaywin.rename(columns = {\"probabilities\" : \"awaywin_probs\"})\n",
    "# Dataframe for draw\n",
    "bet365_draw = bet365_modified[bet365_modified[\"variable\"] == \"odd_x\"]\n",
    "bet365_draw = bet365_draw[[\"match_id\",\"probabilities\"]]\n",
    "bet365_draw = bet365_draw.rename(columns = {\"probabilities\" : \"draw_probs\"})\n",
    "# rename columns in matches dataframe\n",
    "matches = matches.rename(columns = {\"match_hometeam_score\":\"home_score\",\"match_awayteam_score\":\"away_score\"})\n",
    "matches_df_2 = matches[[\"match_id\",\"home_score\",\"away_score\"]]\n",
    "# Merge all 4 dataframes on match id\n",
    "dfs = [bet365_homewin,bet365_awaywin,bet365_draw,matches_df_2]\n",
    "from functools import reduce\n",
    "\n",
    "df_merged = reduce(lambda  left,right: pd.merge(left,right,on=['match_id'],\n",
    "                                            how='outer'), dfs)\n",
    "# drop rows with any na values because if na is from matches dataframe then that game has not been played yet\n",
    "df_merged.dropna(how = \"any\",inplace = True)\n",
    "\n",
    "# Add a new column phome-paway\n",
    "df_merged[\"phome-paway\"] = df_merged[\"homewin_probs\"] - df_merged[\"awaywin_probs\"]\n",
    "# Add a new column that shows if a game ended as draw\n",
    "df_merged[\"difference\"] = df_merged[\"home_score\"] - df_merged[\"away_score\"]\n",
    "df_merged[\"draw\"] = df_merged[\"difference\"].apply(lambda row: 1 if row == 0.0 else 0)\n",
    "\n",
    "\n",
    "bins = [-1,-0.8,-0.6,-0.4,-0.2,0,0.2,0.4,0.6,0.8,1]\n",
    "labels = [1,2,3,4,5,6,7,8,9,10]\n",
    "df_merged['binned'] = pd.cut(df_merged['phome-paway'], bins = bins, labels = labels)\n",
    "s = pd.cut(df_merged['phome-paway'], bins=bins).value_counts()\n",
    "\n",
    "#Turn binned column of type integer\n",
    "df_merged[\"binned\"] = df_merged[\"binned\"].astype(\"int\")\n",
    "\n",
    "# Calculate probability of actual draws\n",
    "draw_probabilites = df_merged.groupby(\"binned\").apply(lambda row : np.sum(row[\"draw\"])/len(row[\"draw\"]))\n",
    "dp = draw_probabilites.to_dict()\n",
    "df_merged[\"binned_draw\"] = df_merged[\"binned\"].map(dp)\n",
    "\n",
    "x = df_merged[\"phome-paway\"]\n",
    "y = df_merged[\"draw_probs\"]\n",
    "z = df_merged[\"binned_draw\"]\n",
    "\n",
    "\n",
    "# Use seaborn regplot to plot P(Home-Away) on x axis and P(tie) on y axis\n",
    "sns.regplot(x = x,y = y,data = df_merged, order = 2, units = df_merged[\"binned\"],scatter = True,truncate = True)\n",
    "# Plot calculated draw values on top\n",
    "plt.scatter(x,df_merged[\"binned_draw\"],alpha=0.9, marker = \"*\",c = \"red\")\n",
    "\n",
    "\n",
    "plt.title('bet365')\n",
    "plt.xlabel('P(home)−P(away)')\n",
    "plt.ylabel('P(tie)')\n"
   ]
  },
  {
   "cell_type": "markdown",
   "metadata": {},
   "source": [
    "**Chance.cz**"
   ]
  },
  {
   "cell_type": "code",
   "execution_count": 587,
   "metadata": {
    "scrolled": true
   },
   "outputs": [
    {
     "data": {
      "text/plain": [
       "Text(0, 0.5, 'P(tie)')"
      ]
     },
     "execution_count": 587,
     "metadata": {},
     "output_type": "execute_result"
    },
    {
     "data": {
      "image/png": "[encoded data removed]",
      "text/plain": [
       "<Figure size 432x288 with 1 Axes>"
      ]
     },
     "metadata": {},
     "output_type": "display_data"
    }
   ],
   "source": [
    "# Chance.cz\n",
    "# Dataframe for home win\n",
    "chance_homewin = chance_modified[chance_modified[\"variable\"] == \"odd_1\"]\n",
    "chance_homewin = chance_homewin[[\"match_id\",\"probabilities\"]]\n",
    "chance_homewin = chance_homewin.rename(columns = {\"probabilities\" : \"homewin_probs\"})\n",
    "# Dataframe for away win\n",
    "chance_awaywin = chance_modified[chance_modified[\"variable\"] == \"odd_2\"]\n",
    "chance_awaywin = chance_awaywin[[\"match_id\",\"probabilities\"]]\n",
    "chance_awaywin = chance_awaywin.rename(columns = {\"probabilities\" : \"awaywin_probs\"})\n",
    "# Dataframe for draw\n",
    "chance_draw = chance_modified[chance_modified[\"variable\"] == \"odd_x\"]\n",
    "chance_draw = chance_draw[[\"match_id\",\"probabilities\"]]\n",
    "chance_draw = chance_draw.rename(columns = {\"probabilities\" : \"draw_probs\"})\n",
    "# rename columns in matches dataframe\n",
    "matches = matches.rename(columns = {\"match_hometeam_score\":\"home_score\",\"match_awayteam_score\":\"away_score\"})\n",
    "matches_df_2 = matches[[\"match_id\",\"home_score\",\"away_score\"]]\n",
    "# Merge all 4 dataframes on match id\n",
    "dfs = [chance_homewin,chance_awaywin,chance_draw,matches_df_2]\n",
    "from functools import reduce\n",
    "\n",
    "df_merged = reduce(lambda  left,right: pd.merge(left,right,on=['match_id'],\n",
    "                                            how='outer'), dfs)\n",
    "# drop rows with any na values because if na is from matches dataframe then that game has not been played yet\n",
    "df_merged.dropna(how = \"any\",inplace = True)\n",
    "\n",
    "# Add a new column phome-paway\n",
    "df_merged[\"phome-paway\"] = df_merged[\"homewin_probs\"] - df_merged[\"awaywin_probs\"]\n",
    "# Add a new column that shows if a game ended as draw\n",
    "df_merged[\"difference\"] = df_merged[\"home_score\"] - df_merged[\"away_score\"]\n",
    "df_merged[\"draw\"] = df_merged[\"difference\"].apply(lambda row: 1 if row == 0.0 else 0)\n",
    "\n",
    "\n",
    "bins = [-1,-0.8,-0.6,-0.4,-0.2,0,0.2,0.4,0.6,0.8,1]\n",
    "labels = [1,2,3,4,5,6,7,8,9,10]\n",
    "df_merged['binned'] = pd.cut(df_merged['phome-paway'], bins = bins, labels = labels)\n",
    "s = pd.cut(df_merged['phome-paway'], bins=bins).value_counts()\n",
    "\n",
    "#Turn binned column of type integer\n",
    "df_merged[\"binned\"] = df_merged[\"binned\"].astype(\"int\")\n",
    "\n",
    "# Calculate probability of actual draws\n",
    "draw_probabilites = df_merged.groupby(\"binned\").apply(lambda row : np.sum(row[\"draw\"])/len(row[\"draw\"]))\n",
    "dp = draw_probabilites.to_dict()\n",
    "df_merged[\"binned_draw\"] = df_merged[\"binned\"].map(dp)\n",
    "\n",
    "x = df_merged[\"phome-paway\"]\n",
    "y = df_merged[\"draw_probs\"]\n",
    "z = df_merged[\"binned_draw\"]\n",
    "\n",
    "\n",
    "# Use seaborn regplot to plot P(Home-Away) on x axis and P(tie) on y axis\n",
    "sns.regplot(x = x,y = y,data = df_merged, order = 2, units = df_merged[\"binned\"],scatter = True,truncate = True)\n",
    "# Plot calculated draw values on top\n",
    "plt.scatter(x,df_merged[\"binned_draw\"],alpha=0.9, marker = \"*\",c = \"red\")\n",
    "\n",
    "\n",
    "plt.title('Chance.cz')\n",
    "plt.xlabel('P(home)−P(away)')\n",
    "plt.ylabel('P(tie)')\n"
   ]
  },
  {
   "cell_type": "markdown",
   "metadata": {},
   "source": [
    "**Discussion:**"
   ]
  },
  {
   "cell_type": "markdown",
   "metadata": {},
   "source": [
    "We took out matches that the result changed after 90th minute. This decreased the noise in as can be observed from the plots. Also, calculated values and set draw values are closer. For example let's imagine in a game red card was received in less than 15 minutes than the odd_makers would set a new odd with a lower probability for the team that got the red card. This can explain why calculated results and set ones are closer. However the peak point for the curves(0.0-0.25 interval) is still the point calculated odds are above the set ones. As mentioned before there are other intervals in which calculated odds go above the set ones like  0.60-0.75 for Chance.cz that could be beneficial to bet on. OVerall odd makers set the odds in favor of making as much money that it is expected set odds will be lower than calculated odds. However some intervals as we have shown are against the odds."
   ]
  }
 ],
 "metadata": {
  "kernelspec": {
   "display_name": "Python 3",
   "language": "python",
   "name": "python3"
  },
  "language_info": {
   "codemirror_mode": {
    "name": "ipython",
    "version": 3
   },
   "file_extension": ".py",
   "mimetype": "text/x-python",
   "name": "python",
   "nbconvert_exporter": "python",
   "pygments_lexer": "ipython3",
   "version": "3.7.4"
  }
 },
 "nbformat": 4,
 "nbformat_minor": 2
}
